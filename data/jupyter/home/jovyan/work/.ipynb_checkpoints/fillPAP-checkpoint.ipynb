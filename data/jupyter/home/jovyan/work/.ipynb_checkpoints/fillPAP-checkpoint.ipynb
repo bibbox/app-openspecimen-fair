{
 "cells": [
  {
   "cell_type": "markdown",
   "id": "6ea46643-e2ce-4de8-8de2-e29d5cddc439",
   "metadata": {
    "tags": []
   },
   "source": [
    "# Install and Import required modules"
   ]
  },
  {
   "cell_type": "code",
   "execution_count": 1,
   "id": "2db0df98-d129-4e03-9851-58983d31bd13",
   "metadata": {
    "pycharm": {
     "name": "#%%\n"
    },
    "tags": []
   },
   "outputs": [
    {
     "name": "stdout",
     "output_type": "stream",
     "text": [
      "Collecting prov\n",
      "  Downloading prov-2.0.0-py3-none-any.whl (421 kB)\n",
      "\u001b[2K     \u001b[90m━━━━━━━━━━━━━━━━━━━━━━━━━━━━━━━━━━━━━━\u001b[0m \u001b[32m421.5/421.5 KB\u001b[0m \u001b[31m18.9 MB/s\u001b[0m eta \u001b[36m0:00:00\u001b[0m\n",
      "\u001b[?25hCollecting prov-db-connector\n",
      "  Downloading prov-db-connector-0.5.1.tar.gz (46 kB)\n",
      "\u001b[2K     \u001b[90m━━━━━━━━━━━━━━━━━━━━━━━━━━━━━━━━━━━━━━━━\u001b[0m \u001b[32m46.6/46.6 KB\u001b[0m \u001b[31m15.4 MB/s\u001b[0m eta \u001b[36m0:00:00\u001b[0m\n",
      "\u001b[?25h  Preparing metadata (setup.py) ... \u001b[?25ldone\n",
      "\u001b[?25hRequirement already satisfied: requests in /opt/conda/lib/python3.9/site-packages (2.27.1)\n",
      "Collecting pydot\n",
      "  Downloading pydot-1.4.2-py2.py3-none-any.whl (21 kB)\n",
      "Collecting pydot-ng\n",
      "  Downloading pydot_ng-2.0.0-py2.py3-none-any.whl (20 kB)\n",
      "Collecting graphviz\n",
      "  Downloading graphviz-0.20-py3-none-any.whl (46 kB)\n",
      "\u001b[2K     \u001b[90m━━━━━━━━━━━━━━━━━━━━━━━━━━━━━━━━━━━━━━━━\u001b[0m \u001b[32m47.0/47.0 KB\u001b[0m \u001b[31m13.6 MB/s\u001b[0m eta \u001b[36m0:00:00\u001b[0m\n",
      "\u001b[?25hCollecting OpenSpecimenAPIconnector\n",
      "  Downloading OpenSpecimenAPIconnector-0.9.3-py3-none-any.whl (86 kB)\n",
      "\u001b[2K     \u001b[90m━━━━━━━━━━━━━━━━━━━━━━━━━━━━━━━━━━━━━━━━\u001b[0m \u001b[32m86.4/86.4 KB\u001b[0m \u001b[31m6.4 MB/s\u001b[0m eta \u001b[36m0:00:00\u001b[0m\n",
      "\u001b[?25hCollecting lxml>=3.3.5\n",
      "  Downloading lxml-4.8.0-cp39-cp39-manylinux_2_17_x86_64.manylinux2014_x86_64.manylinux_2_24_x86_64.whl (6.9 MB)\n",
      "\u001b[2K     \u001b[90m━━━━━━━━━━━━━━━━━━━━━━━━━━━━━━━━━━━━━━━━\u001b[0m \u001b[32m6.9/6.9 MB\u001b[0m \u001b[31m76.3 MB/s\u001b[0m eta \u001b[36m0:00:00\u001b[0m:00:01\u001b[0m00:01\u001b[0m\n",
      "\u001b[?25hCollecting rdflib>=4.2.1\n",
      "  Downloading rdflib-6.1.1-py3-none-any.whl (482 kB)\n",
      "\u001b[2K     \u001b[90m━━━━━━━━━━━━━━━━━━━━━━━━━━━━━━━━━━━━━━\u001b[0m \u001b[32m482.8/482.8 KB\u001b[0m \u001b[31m66.0 MB/s\u001b[0m eta \u001b[36m0:00:00\u001b[0m\n",
      "\u001b[?25hRequirement already satisfied: networkx>=2.0 in /opt/conda/lib/python3.9/site-packages (from prov) (2.8)\n",
      "Requirement already satisfied: python-dateutil>=2.2 in /opt/conda/lib/python3.9/site-packages (from prov) (2.8.2)\n",
      "Collecting neo4j==4.4.1\n",
      "  Downloading neo4j-4.4.1.tar.gz (89 kB)\n",
      "\u001b[2K     \u001b[90m━━━━━━━━━━━━━━━━━━━━━━━━━━━━━━━━━━━━━━━━\u001b[0m \u001b[32m89.1/89.1 KB\u001b[0m \u001b[31m27.7 MB/s\u001b[0m eta \u001b[36m0:00:00\u001b[0m\n",
      "\u001b[?25h  Preparing metadata (setup.py) ... \u001b[?25ldone\n",
      "\u001b[?25hRequirement already satisfied: pytz in /opt/conda/lib/python3.9/site-packages (from neo4j==4.4.1->prov-db-connector) (2022.1)\n",
      "Requirement already satisfied: certifi>=2017.4.17 in /opt/conda/lib/python3.9/site-packages (from requests) (2021.10.8)\n",
      "Requirement already satisfied: charset-normalizer~=2.0.0 in /opt/conda/lib/python3.9/site-packages (from requests) (2.0.12)\n",
      "Requirement already satisfied: idna<4,>=2.5 in /opt/conda/lib/python3.9/site-packages (from requests) (3.3)\n",
      "Requirement already satisfied: urllib3<1.27,>=1.21.1 in /opt/conda/lib/python3.9/site-packages (from requests) (1.26.9)\n",
      "Requirement already satisfied: pyparsing>=2.1.4 in /opt/conda/lib/python3.9/site-packages (from pydot) (3.0.8)\n",
      "Collecting faker\n",
      "  Downloading Faker-13.12.0-py3-none-any.whl (1.6 MB)\n",
      "\u001b[2K     \u001b[90m━━━━━━━━━━━━━━━━━━━━━━━━━━━━━━━━━━━━━━━━\u001b[0m \u001b[32m1.6/1.6 MB\u001b[0m \u001b[31m57.8 MB/s\u001b[0m eta \u001b[36m0:00:00\u001b[0m\n",
      "\u001b[?25hCollecting names\n",
      "  Downloading names-0.3.0.tar.gz (789 kB)\n",
      "\u001b[2K     \u001b[90m━━━━━━━━━━━━━━━━━━━━━━━━━━━━━━━━━━━━━\u001b[0m \u001b[32m789.1/789.1 KB\u001b[0m \u001b[31m102.3 MB/s\u001b[0m eta \u001b[36m0:00:00\u001b[0m\n",
      "\u001b[?25h  Preparing metadata (setup.py) ... \u001b[?25ldone\n",
      "\u001b[?25hRequirement already satisfied: pandas in /opt/conda/lib/python3.9/site-packages (from OpenSpecimenAPIconnector) (1.4.2)\n",
      "Requirement already satisfied: numpy in /opt/conda/lib/python3.9/site-packages (from OpenSpecimenAPIconnector) (1.21.6)\n",
      "Collecting openpyxl\n",
      "  Downloading openpyxl-3.0.10-py2.py3-none-any.whl (242 kB)\n",
      "\u001b[2K     \u001b[90m━━━━━━━━━━━━━━━━━━━━━━━━━━━━━━━━━━━━━━\u001b[0m \u001b[32m242.1/242.1 KB\u001b[0m \u001b[31m52.5 MB/s\u001b[0m eta \u001b[36m0:00:00\u001b[0m\n",
      "\u001b[?25hCollecting xlsxwriter\n",
      "  Downloading XlsxWriter-3.0.3-py3-none-any.whl (149 kB)\n",
      "\u001b[2K     \u001b[90m━━━━━━━━━━━━━━━━━━━━━━━━━━━━━━━━━━━━━━\u001b[0m \u001b[32m150.0/150.0 KB\u001b[0m \u001b[31m41.4 MB/s\u001b[0m eta \u001b[36m0:00:00\u001b[0m\n",
      "\u001b[?25hRequirement already satisfied: six>=1.5 in /opt/conda/lib/python3.9/site-packages (from python-dateutil>=2.2->prov) (1.16.0)\n",
      "Requirement already satisfied: setuptools in /opt/conda/lib/python3.9/site-packages (from rdflib>=4.2.1->prov) (62.1.0)\n",
      "Collecting isodate\n",
      "  Downloading isodate-0.6.1-py2.py3-none-any.whl (41 kB)\n",
      "\u001b[2K     \u001b[90m━━━━━━━━━━━━━━━━━━━━━━━━━━━━━━━━━━━━━━━━\u001b[0m \u001b[32m41.7/41.7 KB\u001b[0m \u001b[31m17.8 MB/s\u001b[0m eta \u001b[36m0:00:00\u001b[0m\n",
      "\u001b[?25hCollecting et-xmlfile\n",
      "  Downloading et_xmlfile-1.1.0-py3-none-any.whl (4.7 kB)\n",
      "Building wheels for collected packages: prov-db-connector, neo4j, names\n",
      "  Building wheel for prov-db-connector (setup.py) ... \u001b[?25ldone\n",
      "\u001b[?25h  Created wheel for prov-db-connector: filename=prov_db_connector-0.5.1-py3-none-any.whl size=58566 sha256=302302b81a285e8a9eb8e55ecb7873cde8391c60080798877b97073d7111463d\n",
      "  Stored in directory: /home/jovyan/.cache/pip/wheels/7e/4d/16/e9e0494a3fd73a4bc47614626ec8ecdc705b0be7ae750fa06e\n",
      "  Building wheel for neo4j (setup.py) ... \u001b[?25ldone\n",
      "\u001b[?25h  Created wheel for neo4j: filename=neo4j-4.4.1-py3-none-any.whl size=114560 sha256=32197a66b73e394872280333cbdb5073b5cb5baeda7f29bf551f9a25998e3a28\n",
      "  Stored in directory: /home/jovyan/.cache/pip/wheels/1a/38/4b/0876d24f853fdfe40b2440c8c03332ec2d7f1f88b2446dc694\n",
      "  Building wheel for names (setup.py) ... \u001b[?25ldone\n",
      "\u001b[?25h  Created wheel for names: filename=names-0.3.0-py3-none-any.whl size=803701 sha256=9f0ff3a441dc7aefe79eb8c3ac25f0579ce4e97b3189b5c0f56feaffaf92474a\n",
      "  Stored in directory: /home/jovyan/.cache/pip/wheels/f1/bc/04/55ab9499ea02359ece8b02b4169ebb30aa52d82b84c13fc506\n",
      "Successfully built prov-db-connector neo4j names\n",
      "Installing collected packages: names, xlsxwriter, pydot-ng, pydot, neo4j, lxml, isodate, graphviz, et-xmlfile, rdflib, openpyxl, faker, prov, OpenSpecimenAPIconnector, prov-db-connector\n",
      "Successfully installed OpenSpecimenAPIconnector-0.9.3 et-xmlfile-1.1.0 faker-13.12.0 graphviz-0.20 isodate-0.6.1 lxml-4.8.0 names-0.3.0 neo4j-4.4.1 openpyxl-3.0.10 prov-2.0.0 prov-db-connector-0.5.1 pydot-1.4.2 pydot-ng-2.0.0 rdflib-6.1.1 xlsxwriter-3.0.3\n",
      "Note: you may need to restart the kernel to use updated packages.\n"
     ]
    }
   ],
   "source": [
    "pip install prov prov-db-connector requests pydot pydot-ng graphviz OpenSpecimenAPIconnector"
   ]
  },
  {
   "cell_type": "markdown",
   "id": "4f5e8f08-f4ca-4382-8ce6-2595ee3dfab4",
   "metadata": {
    "jp-MarkdownHeadingCollapsed": true,
    "tags": []
   },
   "source": [
    "### OpenSpecimenAPI Conector dependencies"
   ]
  },
  {
   "cell_type": "code",
   "execution_count": 2,
   "id": "1758772e-e842-407a-ba7d-7e948d330553",
   "metadata": {},
   "outputs": [
    {
     "name": "stdout",
     "output_type": "stream",
     "text": [
      "Requirement already satisfied: xlsxwriter in /opt/conda/lib/python3.9/site-packages (3.0.3)\n",
      "Requirement already satisfied: openpyxl in /opt/conda/lib/python3.9/site-packages (3.0.10)\n",
      "Requirement already satisfied: et-xmlfile in /opt/conda/lib/python3.9/site-packages (from openpyxl) (1.1.0)\n",
      "Note: you may need to restart the kernel to use updated packages.\n"
     ]
    }
   ],
   "source": [
    "#pip install xlsxwriter openpyxl"
   ]
  },
  {
   "cell_type": "markdown",
   "id": "72e2b106-650d-4de0-8343-ccdbb7995958",
   "metadata": {},
   "source": [
    "## Imports"
   ]
  },
  {
   "cell_type": "code",
   "execution_count": 2,
   "id": "c5eb621b-c7e7-456c-9c58-0660a3807156",
   "metadata": {
    "pycharm": {
     "name": "#%%\n"
    }
   },
   "outputs": [],
   "source": [
    "import datetime\n",
    "import json\n",
    "import logging\n",
    "import uuid\n",
    "from pprint import pprint\n",
    "\n",
    "import OpenSpecimenAPIconnector as OSconn\n",
    "import OpenSpecimenAPIconnector.os_core as os_core\n",
    "import OpenSpecimenAPIconnector.os_util as os_util\n",
    "import pandas as pd\n",
    "from prov.model import ProvDocument\n",
    "from provdbconnector import ProvDb\n",
    "from provdbconnector.db_adapters.neo4j.neo4jadapter import Neo4jAdapter"
   ]
  },
  {
   "cell_type": "markdown",
   "id": "fb6b59d7-9a4d-49e3-82b3-12b9140f6354",
   "metadata": {
    "tags": []
   },
   "source": [
    "# URL and authentication for OpenSpecimen and Neo4j"
   ]
  },
  {
   "cell_type": "code",
   "execution_count": 3,
   "id": "320053dd-44c6-4013-9ca2-89336ad9f869",
   "metadata": {
    "pycharm": {
     "name": "#%%\n"
    }
   },
   "outputs": [],
   "source": [
    "os_baseurl = 'http://openspecimen:8080/openspecimen/rest/ng'\n",
    "loginname = \"admin\"\n",
    "password = \"Login@123\"\n",
    "os_auth = (loginname, password)\n",
    "neo4j_auth = {\"user_name\":\"neo4j\", \"user_password\":\"admin\", \"host\":\"pap-neo4j:7687\"}"
   ]
  },
  {
   "cell_type": "markdown",
   "id": "495a49ba-9b91-44a9-929d-b1ab39dff845",
   "metadata": {
    "tags": []
   },
   "source": [
    "# Namespaces"
   ]
  },
  {
   "cell_type": "code",
   "execution_count": 4,
   "id": "a1ac8764-c9f1-46dc-9778-c290e23cffc2",
   "metadata": {},
   "outputs": [],
   "source": [
    "NAMESPACE_OS_INSTANCE = \"ExampleInstance\"\n",
    "\n",
    "NAMESPACE_OS_SPECIMEN = \"SPECIMEN\"\n",
    "NAMESPACE_OS_AGENT = \"OS-AGENT\"\n",
    "NAMESPACE_OS_ACTION = \"OS-ACTION\"\n",
    "\n",
    "NAMESPACE_ENITIES = \"ns_biobank_specimens\"\n",
    "NAMESPACE_OTHER = \"ns_biobank_other_attributes\"\n",
    "NAMESPACE_DATETIME = \"ns_biobank_datetime\"\n",
    "NAMESPACE_AGENTS = \"ns_biobank_agent\"\n",
    "NAMESPACE_ACTIONS = \"ns_biobank_activity\"\n",
    "NAMESPACE_BUNDLES = \"ns_biobank_bundle\"\n",
    "\n",
    "NAMESPACE_SENDER = 'ns_pathology'\n",
    "\n",
    "NAMESPACE_COMMON_MODEL = \"cpm\"\n",
    "NAMESPACE_DCT = \"dct\""
   ]
  },
  {
   "cell_type": "markdown",
   "id": "c18aa47a-5180-43f9-84b0-13e25a6f9f79",
   "metadata": {
    "jp-MarkdownHeadingCollapsed": true,
    "tags": []
   },
   "source": [
    "# Helper Functions"
   ]
  },
  {
   "cell_type": "code",
   "execution_count": 23,
   "id": "97b217fd-55fd-4ae0-8751-8598c9c8ff32",
   "metadata": {},
   "outputs": [],
   "source": [
    "def get_all_cps():\n",
    "    return os_cp.get_all_collection_protocols()\n",
    "\n",
    "\n",
    "def get_all_cprs(params):\n",
    "    return os_participant.get_participant_matches(params=params)\n",
    "\n",
    "\n",
    "def create_dummy_data(num_primary_samples=1, derivates_per_samples=1, aliqutes_per_derivate=1, num_agents=1):\n",
    "    doc = ProvDocument()\n",
    "    doc.add_namespace(NAMESPACE_ENITIES, \"http://biobank_URI/specimens/\")\n",
    "    doc.add_namespace(NAMESPACE_AGENTS, \"http://biobank_URI/personal/\")\n",
    "    doc.add_namespace(NAMESPACE_ACTIONS, \"http://biobank_URI/SOPs/\")\n",
    "    doc.add_namespace(NAMESPACE_BUNDLES, \"http://biobank_URI/bundle/\")\n",
    "    doc.add_namespace(\"snomed\", 'http://purl.bioontology.org/ontology/SNOMEDCT')\n",
    "\n",
    "    derivations = []\n",
    "    aliqoutations = []\n",
    "    for a in range(num_agents):\n",
    "        derivation = f\"{NAMESPACE_ACTIONS}:DERIVATION_BY_AGENT_{a}\"\n",
    "        derivations.append(derivation)\n",
    "        aliqoutation = f\"{NAMESPACE_ACTIONS}:ALIQUTATION_BY_AGENT_{a}\"\n",
    "        aliqoutations.append(aliqoutation)\n",
    "        doc.activity(derivation)\n",
    "        doc.activity(aliqoutation)\n",
    "        agent = f\"{NAMESPACE_AGENTS}:AGENT_{a}\"\n",
    "        doc.association(activity=derivation, agent=agent)\n",
    "        doc.association(activity=aliqoutation, agent=agent)\n",
    "\n",
    "    # create entities\n",
    "    entities = []\n",
    "    for ps in range(num_primary_samples):\n",
    "        ps_entity = f\"{NAMESPACE_ENITIES}:PrimarySample_{ps}\"\n",
    "        entities.append(ps_entity)\n",
    "        doc.entity(ps_entity)\n",
    "        for d in range(derivates_per_samples):\n",
    "            derivate_entity = f\"{NAMESPACE_ENITIES}:Derivate_{ps}.{d}\"\n",
    "            entities.append(derivate_entity)\n",
    "            doc.wasGeneratedBy(derivate_entity, derivations[ps % num_agents])\n",
    "            doc.used(derivations[ps % num_agents], ps_entity)\n",
    "            doc.wasDerivedFrom(derivate_entity, ps_entity)\n",
    "            for a in range(aliqutes_per_derivate):\n",
    "                aliquote_entity = f\"{NAMESPACE_ENITIES}:Aliquote_{ps}.{d}.{a}\"\n",
    "                entities.append(aliquote_entity)\n",
    "                doc.wasGeneratedBy(aliquote_entity, aliqoutations[ps % num_agents])\n",
    "                doc.used(aliqoutations[ps % num_agents], derivate_entity)\n",
    "                doc.wasDerivedFrom(aliquote_entity, derivate_entity)\n",
    "\n",
    "    return doc\n",
    "\n",
    "# TODO use identifier directly (already includes namespace)\n",
    "def get_prov_for_sample(prov_api, identifier, bundleName, bundle_to_fill=None, namespace_dict=None,\n",
    "                        prov_type='prov:Entity', namespace='http://biobank_URI/specimens/', exclude_Bundles=True,\n",
    "                        max_steps=1, stop_at_entity=None, getAgents=False):\n",
    "    if bundle_to_fill is None:\n",
    "        doc = ProvDocument()\n",
    "        if isinstance(namespace_dict, dict):\n",
    "            for key, value in namespace_dict.items():\n",
    "                doc.add_namespace(key, value)\n",
    "        #        doc.add_namespace(NAMESPACE_ENITIES, \"http://biobank_URI/specimens/\")\n",
    "        #        doc.add_namespace(NAMESPACE_AGENTS, \"http://biobank_URI/personal/\")\n",
    "        #        doc.add_namespace(NAMESPACE_ACTIONS, \"http://biobank_URI/SOPs/\")\n",
    "        #        doc.add_namespace(NAMESPACE_BUNDLES, \"http://biobank_URI/bundle/\")\n",
    "        #        doc.add_namespace(\"snomed\",'http://purl.bioontology.org/ontology/SNOMEDCT')\n",
    "\n",
    "        bundle_to_fill = doc.bundle(f\"{NAMESPACE_BUNDLES}:{bundleName}\")\n",
    "\n",
    "    print(f\"all neighbors for {namespace}{identifier}\")\n",
    "    bundle_to_fill.entity(f\"{namespace}{identifier}\")\n",
    "\n",
    "    rec_list = prov_api._adapter.get_records_tail(metadata_dict={'prov_type': f'{prov_type}',\n",
    "                                                                 'identifier': f'{namespace}{identifier}'}, depth=1)\n",
    "    #print(f\"Namespace: {namespace}\")\n",
    "    if len(rec_list) == 0:\n",
    "        return bundle_to_fill\n",
    "\n",
    "    nss = namespace_dict\n",
    "\n",
    "    for record in rec_list:\n",
    "        if record.metadata['prov_type'] == 'prov:Entity':\n",
    "            continue\n",
    "        # TODO check if prov_type correct\n",
    "        if exclude_Bundles and 'prov:type' in record.attributes and record.attributes['prov:type'] == 'prov:Bundle':\n",
    "            continue\n",
    "        # print(inv_nss)\n",
    "        if not isinstance(nss, dict):\n",
    "            nss = {}\n",
    "            print(record.metadata['namespaces'])\n",
    "            if isinstance(record.metadata['namespaces'], list):\n",
    "                for names in record.metadata['namespaces']:\n",
    "                    nss.update(json.loads(names))\n",
    "            nss = json.loads(names)\n",
    "        inv_nss = {v: k for k, v in nss.items()}\n",
    "\n",
    "        if record.metadata['prov_type'] == 'prov:Derivation' and record.attributes[\n",
    "            'prov:generatedEntity'] != f\"{inv_nss[namespace]}:{identifier}\":\n",
    "            # print(f\"{inv_nss[namespace]}:{identifier}\")\n",
    "            # print(record)\n",
    "            continue\n",
    "        if (max_steps == 0 or identifier == stop_at_entity) and record.metadata['prov_type'] == 'prov:Derivation':\n",
    "            continue\n",
    "        #        print(record)\n",
    "        if getAgents and record.metadata['prov_type'] == 'prov:Activity':\n",
    "            activity_id, ns = get_record_id_and_namspace(record)\n",
    "            if activity_id == identifier:\n",
    "                continue\n",
    "            # get_prov_for_sample(prov_api=prov_api,\n",
    "            #                     identifier=id,\n",
    "            #                     bundleName=bundleName,\n",
    "            #                     bundle_to_fill=bundle_to_fill,\n",
    "            #                     prov_type=record.metadata['prov_type'],\n",
    "            #                     namespace=ns,\n",
    "            #                     namespace_dict=nss,\n",
    "            #                     max_steps=1,\n",
    "            #                     stop_at_entity=stop_at_entity)\n",
    "            act_neigh_rec_list = prov_api._adapter.get_records_tail(metadata_dict={'prov_type': f'{record.metadata[\"prov_type\"]}',\n",
    "                                                                         'identifier': f'{ns}{activity_id}'},\n",
    "                                                                    depth=1)\n",
    "            agent_recs = filter_records_list(act_neigh_rec_list,metadata_dict={'prov_type':'prov:Agent'})\n",
    "            for agent_rec in agent_recs:\n",
    "                agent_id, agent_ns = get_record_id_and_namspace(agent_rec)\n",
    "                assoc_recs = filter_records_list(act_neigh_rec_list, attribute_dict={'prov:agent':f'{inv_nss[agent_ns]}:{agent_id}',\n",
    "                                                                                    'prov:activity':f'{inv_nss[ns]}:{activity_id}'},\n",
    "                                                 metadata_dict={'prov_type':'prov:Association'})\n",
    "                if len(assoc_recs) > 1:\n",
    "                    logging.WARNING(f\"More than 1 Association between Agent {inv_nss[agent_ns]}:{agent_id} and Activity {inv_nss[ns]}{activity_id}: using only the first!\")\n",
    "                if len(assoc_recs) == 1:\n",
    "                    prov_api._parse_record(bundle_to_fill, assoc_recs[0])\n",
    "\n",
    "                prov_api._parse_record(bundle_to_fill, agent_rec)\n",
    "\n",
    "            continue\n",
    "        prov_api._parse_record(bundle_to_fill, record)\n",
    "        if record.metadata['prov_type'] == 'prov:Derivation':\n",
    "            #id = record.attributes['prov:usedEntity']\n",
    "            # pprint(bundle_to_fill.get_provn())\n",
    "            #            nss=[]\n",
    "            #            print(f\"Derivation Record {record}\")\n",
    "            # TODO wie viel sinn macht es den indentifier_original namespace z uverwenden wenn ich es eh immer zurück mappen muss?? vllt gleich von idnetifiere?\n",
    "            record_id, record_ns = get_record_id_and_namspace(record,id_to_clean=record.attributes['prov:usedEntity'])\n",
    "            #for sub in nss.keys():\n",
    "            #    if f'{sub}:' in id:\n",
    "            #        id = id.replace(sub + ':', '')\n",
    "            #        ns = nss[sub]\n",
    "            #        break\n",
    "            if record_id == identifier:\n",
    "                continue\n",
    "            get_prov_for_sample(prov_api=prov_api,\n",
    "                                identifier=record_id,\n",
    "                                bundleName=bundleName,\n",
    "                                bundle_to_fill=bundle_to_fill,\n",
    "                                prov_type='prov:Entity',\n",
    "                                namespace=record_ns,\n",
    "                                namespace_dict=nss,\n",
    "                                max_steps=max_steps - 1,\n",
    "                                stop_at_entity=stop_at_entity,\n",
    "                                getAgents=getAgents)\n",
    "    return bundle_to_fill\n",
    "\n",
    "\n",
    "def get_known_agents():\n",
    "    filter = {\n",
    "        'prov_type': 'prov:Agent'\n",
    "    }\n",
    "    return prov_api._adapter.get_records_by_filter(metadata_dict=filter)\n",
    "\n",
    "\n",
    "def get_record_id_and_namspace(record,id_to_clean=None):\n",
    "    nss={}\n",
    "    if isinstance(record.metadata['namespaces'], dict):\n",
    "        nss = record.metadata['namespaces']\n",
    "    elif isinstance(record.metadata['namespaces'], list):\n",
    "        nss = {k: v for d in record.metadata['namespaces'] for k, v in json.loads(d).items()} #\n",
    "    elif isinstance(record.metadata['namespaces'], str):\n",
    "        nss = json.loads(record.metadata['namespaces'])\n",
    "    rec_id = record.metadata['identifier_original']\n",
    "    if id_to_clean is not None and isinstance(id_to_clean,str):\n",
    "        rec_id = id_to_clean\n",
    "    for sub in nss.keys():\n",
    "        if f'{sub}:' in rec_id:\n",
    "            rec_id = rec_id.replace(sub + ':', '')\n",
    "            ns = nss[sub]\n",
    "            break\n",
    "\n",
    "    return rec_id, ns\n",
    "\n",
    "def filter_records_list(record_list, attribute_dict=None, metadata_dict=None):\n",
    "    newlist = []\n",
    "    for record in record_list:\n",
    "        include = True\n",
    "        if attribute_dict is not None and isinstance(attribute_dict, dict):\n",
    "            for key, value in attribute_dict.items():\n",
    "                if key not in record.attributes.keys() or record.attributes[key] != value:\n",
    "                    include = False\n",
    "        if metadata_dict is not None and isinstance(metadata_dict, dict):\n",
    "            for key, value in metadata_dict.items():\n",
    "                if key not in record.metadata.keys() or record.metadata[key] != value:\n",
    "                    include = False\n",
    "        if include:\n",
    "            newlist.append(record)\n",
    "    return newlist\n",
    "\n",
    "\n",
    "def get_latest_instance_for_extid(external_id):\n",
    "    filter_attributes = {\n",
    "        'ns_biobank_other_attributes:externalID': external_id,\n",
    "    }\n",
    "    # TODO figure out why metadata filter for prov_type has no effect\n",
    "    filter_metadata = {\n",
    "        'prov_type': 'prov:Entity'\n",
    "    }\n",
    "\n",
    "    r = prov_api._adapter.get_records_by_filter(attributes_dict=filter_attributes, metadata_dict=filter_metadata)\n",
    "    newlist = []\n",
    "\n",
    "    for elem in r:\n",
    "        if elem.metadata['prov_type'] == 'prov:Entity':\n",
    "            newlist.append(elem)\n",
    "\n",
    "\n",
    "\n",
    "    newlist.sort(key=lambda x: x.attributes['ns_biobank_datetime:inXSDDateTime'], reverse=True)\n",
    "    identifier_string = newlist[0].metadata['identifier_original']\n",
    "    return identifier_string[identifier_string.find(':')+1:]\n",
    "\n",
    "\n",
    "def get_agent_provid(external_id, known_agents):\n",
    "    # check if agent already exists\n",
    "    for agent in known_agents:\n",
    "        if agent.attributes['ns_biobank_other_attributes:externalID'] == external_id:\n",
    "            return agent.metadata['identifier']\n",
    "\n",
    "    # if agent does not exist, create new provid\n",
    "    agent_provid = f\"{NAMESPACE_AGENTS}:{str(uuid.uuid4())}\"\n",
    "    return agent_provid\n",
    "\n",
    "\n",
    "def create_blank_prov_doc():\n",
    "    doc = ProvDocument()\n",
    "    doc.add_namespace(NAMESPACE_ENITIES, \"http://biobank_URI/specimens/\")\n",
    "    doc.add_namespace(NAMESPACE_OTHER, \"http://biobank_URI/other_attributes/\")\n",
    "    doc.add_namespace(NAMESPACE_DATETIME, \"http://www.w3.org/TR/owl-time\")\n",
    "    doc.add_namespace(NAMESPACE_AGENTS, \"http://biobank_URI/personal/\")\n",
    "    doc.add_namespace(NAMESPACE_ACTIONS, \"http://biobank_URI/SOPs/\")\n",
    "    doc.add_namespace(NAMESPACE_BUNDLES, \"http://biobank_URI/bundle/\")\n",
    "    doc.add_namespace(\"snomed\", 'http://purl.bioontology.org/ontology/SNOMEDCT')\n",
    "    return doc\n",
    "\n",
    "\n",
    "def create_event_df(specimen_events):\n",
    "    event_list = []\n",
    "    for event in specimen_events:\n",
    "        event_name = event['name']\n",
    "        for record in event['records']:\n",
    "            dict = {\n",
    "                'EventType': event_name,\n",
    "                'eventId': event['id'],\n",
    "                'recordId': record['recordId'],\n",
    "                'UserId': record['user']['id'],\n",
    "                'TimeStamp': record['fieldValues'][1]['value'],\n",
    "            }\n",
    "            event_list.append(dict)\n",
    "    event_df = pd.DataFrame(event_list)\n",
    "    event_df = event_df.sort_values(by=['TimeStamp'])\n",
    "    return event_df\n",
    "\n",
    "\n",
    "def prov_specimencreationevent(row, specimen_id):\n",
    "    global parent_entity_id\n",
    "    print('working on SpecimenCollectionEvent')\n",
    "    doc = create_blank_prov_doc()\n",
    "    event_details = os_form.get_form_details(row['eventId'], row['recordId'], True)\n",
    "    procedure = ''\n",
    "    user = ''\n",
    "\n",
    "    for detail in event_details['fields']:\n",
    "        if detail['name'] == 'procedure':\n",
    "            procedure = detail['displayValue']\n",
    "        elif detail['name'] == 'user':\n",
    "            user = f\"{detail['displayValue']}-{detail['value']}\"\n",
    "\n",
    "    # ACTION\n",
    "    action = f\"{NAMESPACE_ACTIONS}:{str(uuid.uuid4())}\"\n",
    "    action_other_attributes = {\n",
    "        f\"{NAMESPACE_OTHER}:externalID\": f\"{NAMESPACE_OS_INSTANCE}-{NAMESPACE_OS_ACTION}-{row['EventType']}-{row['recordId']}\",\n",
    "        f\"{NAMESPACE_OTHER}:type\": f\"{row['EventType']}\",\n",
    "        f\"{NAMESPACE_OTHER}:procedure\": f\"{procedure}\",\n",
    "        f\"{NAMESPACE_DATETIME}:inXSDDateTime\": datetime.datetime.fromtimestamp(\n",
    "            int(row['TimeStamp']) / 1000).isoformat()\n",
    "    }\n",
    "    doc.activity(action, other_attributes=action_other_attributes)\n",
    "\n",
    "    # AGENT\n",
    "    agent_other_attributes = {\n",
    "        f\"{NAMESPACE_OTHER}:externalID\": f\"{NAMESPACE_OS_INSTANCE}-{NAMESPACE_OS_AGENT}-{user}\"\n",
    "    }\n",
    "    agent = get_agent_provid(agent_other_attributes[f\"{NAMESPACE_OTHER}:externalID\"], known_agents)\n",
    "    doc.agent(agent, other_attributes=agent_other_attributes)\n",
    "\n",
    "    # ENTITY\n",
    "    entity = f\"{NAMESPACE_ENITIES}:{str(uuid.uuid4())}\"\n",
    "    entity_other_attributes = {\n",
    "        f\"{NAMESPACE_OTHER}:externalID\": f\"{NAMESPACE_OS_INSTANCE}-{NAMESPACE_OS_SPECIMEN}-{specimen_id}\",\n",
    "        f\"{NAMESPACE_DATETIME}:inXSDDateTime\": datetime.datetime.fromtimestamp(\n",
    "            int(row['TimeStamp']) / 1000).isoformat()\n",
    "    }\n",
    "    doc.entity(entity, other_attributes=entity_other_attributes)\n",
    "\n",
    "    # RELATION\n",
    "    doc.association(activity=action, agent=agent)\n",
    "    doc.wasGeneratedBy(entity, action)\n",
    "\n",
    "    # SAVE DOC\n",
    "    # print(doc.get_provn())\n",
    "    try:\n",
    "        parent_entity_id = entity\n",
    "        prov_doc_id = prov_api.save_document(doc)\n",
    "    except Exception as e:\n",
    "        print(f\"\\n ## Error while saving doc. {e}\")\n",
    "\n",
    "\n",
    "def prov_specimenreceivedevent(row, specimen_id):\n",
    "    global parent_entity_id\n",
    "    print('working on SpecimenReceivedEvent')\n",
    "    doc = create_blank_prov_doc()\n",
    "    event_details = os_form.get_form_details(row['eventId'], row['recordId'], True)\n",
    "    quality = ''\n",
    "    user = ''\n",
    "\n",
    "    for detail in event_details['fields']:\n",
    "        if detail['name'] == 'user':\n",
    "            user = f\"{detail['displayValue']}-{detail['value']}\"\n",
    "        elif detail['name'] == 'quality':\n",
    "            quality = detail['displayValue']\n",
    "\n",
    "    # ACTION\n",
    "    action = f\"{NAMESPACE_ACTIONS}:{str(uuid.uuid4())}\"\n",
    "    action_other_attributes = {\n",
    "        f\"{NAMESPACE_OTHER}:externalID\": f\"{NAMESPACE_OS_INSTANCE}-{NAMESPACE_OS_ACTION}-{row['EventType']}-{row['recordId']}\",\n",
    "        f\"{NAMESPACE_OTHER}:type\": f\"{row['EventType']}\",\n",
    "        f\"{NAMESPACE_OTHER}:quality\": f\"{quality}\",\n",
    "        f\"{NAMESPACE_DATETIME}:inXSDDateTime\": datetime.datetime.fromtimestamp(\n",
    "            int(row['TimeStamp']) / 1000).isoformat()\n",
    "    }\n",
    "    doc.activity(action, other_attributes=action_other_attributes)\n",
    "\n",
    "    # AGENT\n",
    "    agent_other_attributes = {\n",
    "        f\"{NAMESPACE_OTHER}:externalID\": f\"{NAMESPACE_OS_INSTANCE}-{NAMESPACE_OS_AGENT}-{user}\"\n",
    "    }\n",
    "    agent = get_agent_provid(agent_other_attributes[f\"{NAMESPACE_OTHER}:externalID\"], known_agents)\n",
    "    doc.agent(agent, other_attributes=agent_other_attributes)\n",
    "\n",
    "    # ENTITY\n",
    "    entity = f\"{NAMESPACE_ENITIES}:{str(uuid.uuid4())}\"\n",
    "    entity_other_attributes = {\n",
    "        f\"{NAMESPACE_OTHER}:externalID\": f\"{NAMESPACE_OS_INSTANCE}-{NAMESPACE_OS_SPECIMEN}-{specimen_id}\",\n",
    "        f\"{NAMESPACE_DATETIME}:inXSDDateTime\": datetime.datetime.fromtimestamp(\n",
    "            int(row['TimeStamp']) / 1000).isoformat()\n",
    "    }\n",
    "    doc.entity(entity, other_attributes=entity_other_attributes)\n",
    "\n",
    "    # RELATION\n",
    "    doc.association(activity=action, agent=agent)\n",
    "    doc.wasGeneratedBy(entity, action)\n",
    "    doc.used(action, parent_entity_id)\n",
    "    doc.wasInvalidatedBy(parent_entity_id, action)\n",
    "    doc.wasDerivedFrom(entity, parent_entity_id)\n",
    "\n",
    "    # SAVE DOC\n",
    "    # print(doc.get_provn())\n",
    "    try:\n",
    "        parent_entity_id = entity\n",
    "        prov_doc_id = prov_api.save_document(doc)\n",
    "    except Exception as e:\n",
    "        print(f\"\\n ## Error while saving doc. {e}\")\n",
    "\n",
    "\n",
    "def prov_specimentransferevent(row, specimen_id):\n",
    "    global parent_entity_id\n",
    "    print('working on SpecimenTransferEvent')\n",
    "    doc = create_blank_prov_doc()\n",
    "    event_details = os_form.get_form_details(row['eventId'], row['recordId'], True)\n",
    "    from_container = ''\n",
    "    to_container = ''\n",
    "    user = ''\n",
    "\n",
    "    for detail in event_details['fields']:\n",
    "        if detail['name'] == 'user':\n",
    "            user = f\"{detail['displayValue']}-{detail['value']}\"\n",
    "        elif detail['name'] == 'fromContainer':\n",
    "            from_container = detail['displayValue']\n",
    "        elif detail['name'] == 'toContainer':\n",
    "            to_container = detail['displayValue']\n",
    "\n",
    "    # ACTION\n",
    "    action = f\"{NAMESPACE_ACTIONS}:{str(uuid.uuid4())}\"\n",
    "    action_other_attributes = {\n",
    "        f\"{NAMESPACE_OTHER}:externalID\": f\"{NAMESPACE_OS_INSTANCE}-{NAMESPACE_OS_ACTION}-{row['EventType']}-{row['recordId']}\",\n",
    "        f\"{NAMESPACE_OTHER}:type\": f\"{row['EventType']}\",\n",
    "        f\"{NAMESPACE_OTHER}:from_container\": f\"{from_container}\",\n",
    "        f\"{NAMESPACE_OTHER}:to_container\": f\"{to_container}\",\n",
    "        f\"{NAMESPACE_DATETIME}:inXSDDateTime\": datetime.datetime.fromtimestamp(\n",
    "            int(row['TimeStamp']) / 1000).isoformat()\n",
    "    }\n",
    "    doc.activity(action, other_attributes=action_other_attributes)\n",
    "\n",
    "    # AGENT\n",
    "    agent_other_attributes = {\n",
    "        f\"{NAMESPACE_OTHER}:externalID\": f\"{NAMESPACE_OS_INSTANCE}-{NAMESPACE_OS_AGENT}-{user}\"\n",
    "    }\n",
    "    agent = get_agent_provid(agent_other_attributes[f\"{NAMESPACE_OTHER}:externalID\"], known_agents)\n",
    "    doc.agent(agent, other_attributes=agent_other_attributes)\n",
    "\n",
    "    # ENTITY\n",
    "    entity = f\"{NAMESPACE_ENITIES}:{str(uuid.uuid4())}\"\n",
    "    entity_other_attributes = {\n",
    "        f\"{NAMESPACE_OTHER}:externalID\": f\"{NAMESPACE_OS_INSTANCE}-{NAMESPACE_OS_SPECIMEN}-{specimen_id}\",\n",
    "        f\"{NAMESPACE_DATETIME}:inXSDDateTime\": datetime.datetime.fromtimestamp(\n",
    "            int(row['TimeStamp']) / 1000).isoformat()\n",
    "    }\n",
    "    doc.entity(entity, other_attributes=entity_other_attributes)\n",
    "\n",
    "    # RELATION\n",
    "    doc.association(activity=action, agent=agent)\n",
    "    doc.wasGeneratedBy(entity, action)\n",
    "    doc.used(action, parent_entity_id)\n",
    "    doc.wasInvalidatedBy(parent_entity_id, action)\n",
    "    doc.wasDerivedFrom(entity, parent_entity_id)\n",
    "\n",
    "    # SAVE DOC\n",
    "    # print(doc.get_provn())\n",
    "    try:\n",
    "        parent_entity_id = entity\n",
    "        prov_doc_id = prov_api.save_document(doc)\n",
    "    except Exception as e:\n",
    "        print(f\"\\n ## Error while saving doc. {e}\")\n",
    "\n",
    "\n",
    "def prov_specimenshipmentshippedevent(row, specimen_id):\n",
    "    global parent_entity_id\n",
    "    print('working on SpecimenShipmentShippedEvent')\n",
    "    doc = create_blank_prov_doc()\n",
    "    event_details = os_form.get_form_details(row['eventId'], row['recordId'], True)\n",
    "    shipment = ''\n",
    "    sending_site = ''\n",
    "    user = ''\n",
    "\n",
    "    for detail in event_details['fields']:\n",
    "        if detail['name'] == 'user':\n",
    "            user = f\"{detail['displayValue']}-{detail['value']}\"\n",
    "        elif detail['name'] == 'name':\n",
    "            shipment = detail['value']\n",
    "        elif detail['name'] == 'sendingSite':\n",
    "            sending_site = detail['displayValue']\n",
    "\n",
    "    # ACTION\n",
    "    action = f\"{NAMESPACE_ACTIONS}:{str(uuid.uuid4())}\"\n",
    "    action_other_attributes = {\n",
    "        f\"{NAMESPACE_OTHER}:externalID\": f\"{NAMESPACE_OS_INSTANCE}-{NAMESPACE_OS_ACTION}-{row['EventType']}-{row['recordId']}\",\n",
    "        f\"{NAMESPACE_OTHER}:type\": f\"{row['EventType']}\",\n",
    "        f\"{NAMESPACE_OTHER}:shipment\": f\"{shipment}\",\n",
    "        f\"{NAMESPACE_OTHER}:sending_site\": f\"{sending_site}\",\n",
    "        f\"{NAMESPACE_DATETIME}:inXSDDateTime\": datetime.datetime.fromtimestamp(\n",
    "            int(row['TimeStamp']) / 1000).isoformat()\n",
    "    }\n",
    "    doc.activity(action, other_attributes=action_other_attributes)\n",
    "\n",
    "    # AGENT\n",
    "    agent_other_attributes = {\n",
    "        f\"{NAMESPACE_OTHER}:externalID\": f\"{NAMESPACE_OS_INSTANCE}-{NAMESPACE_OS_AGENT}-{user}\"\n",
    "    }\n",
    "    agent = get_agent_provid(agent_other_attributes[f\"{NAMESPACE_OTHER}:externalID\"], known_agents)\n",
    "    doc.agent(agent, other_attributes=agent_other_attributes)\n",
    "\n",
    "    # ENTITY\n",
    "    entity = f\"{NAMESPACE_ENITIES}:{str(uuid.uuid4())}\"\n",
    "    entity_other_attributes = {\n",
    "        f\"{NAMESPACE_OTHER}:externalID\": f\"{NAMESPACE_OS_INSTANCE}-{NAMESPACE_OS_SPECIMEN}-{specimen_id}\",\n",
    "        f\"{NAMESPACE_DATETIME}:inXSDDateTime\": datetime.datetime.fromtimestamp(\n",
    "            int(row['TimeStamp']) / 1000).isoformat()\n",
    "    }\n",
    "    doc.entity(entity, other_attributes=entity_other_attributes)\n",
    "\n",
    "    # RELATION\n",
    "    doc.association(activity=action, agent=agent)\n",
    "    doc.wasGeneratedBy(entity, action)\n",
    "    doc.used(action, parent_entity_id)\n",
    "    doc.wasInvalidatedBy(parent_entity_id, action)\n",
    "    doc.wasDerivedFrom(entity, parent_entity_id)\n",
    "\n",
    "    # SAVE DOC\n",
    "    # print(doc.get_provn())\n",
    "    try:\n",
    "        parent_entity_id = entity\n",
    "        prov_doc_id = prov_api.save_document(doc)\n",
    "    except Exception as e:\n",
    "        print(f\"\\n ## Error while saving doc. {e}\")\n",
    "\n",
    "\n",
    "def prov_specimenshipmentreceivedevent(row, specimen_id):\n",
    "    global parent_entity_id\n",
    "    print('working on SpecimenShipmentReceivedEvent')\n",
    "    doc = create_blank_prov_doc()\n",
    "    event_details = os_form.get_form_details(row['eventId'], row['recordId'], True)\n",
    "    shipment = ''\n",
    "    receiving_site = ''\n",
    "    quality = ''\n",
    "    user = ''\n",
    "\n",
    "    for detail in event_details['fields']:\n",
    "        if detail['name'] == 'user':\n",
    "            user = f\"{detail['displayValue']}-{detail['value']}\"\n",
    "        elif detail['name'] == 'name':\n",
    "            shipment = detail['value']\n",
    "        elif detail['name'] == 'receivingSite':\n",
    "            receiving_site = detail['displayValue']\n",
    "        elif detail['name'] == 'receivedQuality':\n",
    "            quality = detail['displayValue']\n",
    "\n",
    "    # ACTION\n",
    "    action = f\"{NAMESPACE_ACTIONS}:{str(uuid.uuid4())}\"\n",
    "    action_other_attributes = {\n",
    "        f\"{NAMESPACE_OTHER}:externalID\": f\"{NAMESPACE_OS_INSTANCE}-{NAMESPACE_OS_ACTION}-{row['EventType']}-{row['recordId']}\",\n",
    "        f\"{NAMESPACE_OTHER}:type\": f\"{row['EventType']}\",\n",
    "        f\"{NAMESPACE_OTHER}:shipment\": f\"{shipment}\",\n",
    "        f\"{NAMESPACE_OTHER}:receiving_site\": f\"{receiving_site}\",\n",
    "        f\"{NAMESPACE_OTHER}:received_quality\": f\"{quality}\",\n",
    "        f\"{NAMESPACE_DATETIME}:inXSDDateTime\": datetime.datetime.fromtimestamp(\n",
    "            int(row['TimeStamp']) / 1000).isoformat()\n",
    "    }\n",
    "    doc.activity(action, other_attributes=action_other_attributes)\n",
    "\n",
    "    # AGENT\n",
    "    agent_other_attributes = {\n",
    "        f\"{NAMESPACE_OTHER}:externalID\": f\"{NAMESPACE_OS_INSTANCE}-{NAMESPACE_OS_AGENT}-{user}\"\n",
    "    }\n",
    "    agent = get_agent_provid(agent_other_attributes[f\"{NAMESPACE_OTHER}:externalID\"], known_agents)\n",
    "    doc.agent(agent, other_attributes=agent_other_attributes)\n",
    "\n",
    "    # ENTITY\n",
    "    entity = f\"{NAMESPACE_ENITIES}:{str(uuid.uuid4())}\"\n",
    "    entity_other_attributes = {\n",
    "        f\"{NAMESPACE_OTHER}:externalID\": f\"{NAMESPACE_OS_INSTANCE}-{NAMESPACE_OS_SPECIMEN}-{specimen_id}\",\n",
    "        f\"{NAMESPACE_DATETIME}:inXSDDateTime\": datetime.datetime.fromtimestamp(\n",
    "            int(row['TimeStamp']) / 1000).isoformat()\n",
    "    }\n",
    "    doc.entity(entity, other_attributes=entity_other_attributes)\n",
    "\n",
    "    # RELATION\n",
    "    doc.association(activity=action, agent=agent)\n",
    "    doc.wasGeneratedBy(entity, action)\n",
    "    doc.used(action, parent_entity_id)\n",
    "    doc.wasInvalidatedBy(parent_entity_id, action)\n",
    "    doc.wasDerivedFrom(entity, parent_entity_id)\n",
    "\n",
    "    # SAVE DOC\n",
    "    # print(doc.get_provn())\n",
    "    try:\n",
    "        parent_entity_id = entity\n",
    "        prov_doc_id = prov_api.save_document(doc)\n",
    "    except Exception as e:\n",
    "        print(f\"\\n ## Error while saving doc. {e}\")\n",
    "\n",
    "\n",
    "def prov_specimenchildrenevent(row, specimen_id):\n",
    "    global parent_entity_id\n",
    "    print('working on SpecimenChildrenEvent')\n",
    "    doc = create_blank_prov_doc()\n",
    "    event_details = os_form.get_form_details(row['eventId'], row['recordId'], True)\n",
    "    lineage = ''\n",
    "    child_specimen_id = ''\n",
    "    user = ''\n",
    "\n",
    "    for detail in event_details['fields']:\n",
    "        if detail['name'] == 'lineage':\n",
    "            lineage = detail['value']\n",
    "        elif detail['name'] == 'user':\n",
    "            user = detail['displayValue']\n",
    "        elif detail['name'] == 'children':\n",
    "            child_specimen_id = detail['value'][0]['id']\n",
    "\n",
    "\n",
    "    # ACTION\n",
    "    action = f\"{NAMESPACE_ACTIONS}:{str(uuid.uuid4())}\"\n",
    "    action_other_attributes = {\n",
    "        f\"{NAMESPACE_OTHER}:externalID\": f\"{NAMESPACE_OS_INSTANCE}-{NAMESPACE_OS_ACTION}-{row['EventType']}-{row['recordId']}\",\n",
    "        f\"{NAMESPACE_OTHER}:type\": f\"{row['EventType']}\",\n",
    "        f\"{NAMESPACE_OTHER}:lineage\": f\"{lineage}\",\n",
    "        f\"{NAMESPACE_DATETIME}:inXSDDateTime\": datetime.datetime.fromtimestamp(\n",
    "            int(row['TimeStamp']) / 1000).isoformat()\n",
    "    }\n",
    "    doc.activity(action, other_attributes=action_other_attributes)\n",
    "\n",
    "    # AGENT\n",
    "    agent_other_attributes = {\n",
    "        f\"{NAMESPACE_OTHER}:externalID\": f\"{NAMESPACE_OS_INSTANCE}-{NAMESPACE_OS_AGENT}-{user}\"\n",
    "    }\n",
    "    agent = get_agent_provid(agent_other_attributes[f\"{NAMESPACE_OTHER}:externalID\"], known_agents)\n",
    "    doc.agent(agent, other_attributes=agent_other_attributes)\n",
    "\n",
    "    # ENTITY\n",
    "    parent_entity = f\"{NAMESPACE_ENITIES}:{str(uuid.uuid4())}\"\n",
    "    parent_entity_other_attributes = {\n",
    "        f\"{NAMESPACE_OTHER}:externalID\": f\"{NAMESPACE_OS_INSTANCE}-{NAMESPACE_OS_SPECIMEN}-{specimen_id}\",\n",
    "        f\"{NAMESPACE_DATETIME}:inXSDDateTime\": datetime.datetime.fromtimestamp(\n",
    "            int(row['TimeStamp']) / 1000).isoformat()\n",
    "    }\n",
    "    doc.entity(parent_entity, other_attributes=parent_entity_other_attributes)\n",
    "\n",
    "    child_entity = f\"{NAMESPACE_ENITIES}:{str(uuid.uuid4())}\"\n",
    "    child_entity_other_attributes = {\n",
    "        f\"{NAMESPACE_OTHER}:externalID\": f\"{NAMESPACE_OS_INSTANCE}-{NAMESPACE_OS_SPECIMEN}-{child_specimen_id}\",\n",
    "        f\"{NAMESPACE_DATETIME}:inXSDDateTime\": datetime.datetime.fromtimestamp(\n",
    "            int(row['TimeStamp']) / 1000).isoformat()\n",
    "    }\n",
    "    doc.entity(child_entity, other_attributes=child_entity_other_attributes)\n",
    "\n",
    "    # RELATION\n",
    "    doc.association(activity=action, agent=agent)\n",
    "    doc.wasGeneratedBy(parent_entity, action)\n",
    "    doc.wasGeneratedBy(child_entity, action)\n",
    "    doc.used(action, parent_entity_id)\n",
    "    doc.wasInvalidatedBy(parent_entity_id, action)\n",
    "    doc.wasDerivedFrom(parent_entity, parent_entity_id)\n",
    "    doc.wasDerivedFrom(child_entity, parent_entity_id)\n",
    "\n",
    "    # SAVE DOC\n",
    "    # print(doc.get_provn())\n",
    "    try:\n",
    "        # TODO new parent_entity_id is the leftover from the old parent\n",
    "        parent_entity_id = parent_entity\n",
    "        prov_doc_id = prov_api.save_document(doc)\n",
    "    except Exception as e:\n",
    "        print(f\"\\n ## Error while saving doc. {e}\")\n"
   ]
  },
  {
   "cell_type": "markdown",
   "id": "07f35633-3695-433d-bc7e-999f5ae876e6",
   "metadata": {},
   "source": [
    "# LogIn and Initialize Modules"
   ]
  },
  {
   "cell_type": "code",
   "execution_count": 5,
   "id": "98161b8d-9aeb-46ad-9f02-1b4aa821d02a",
   "metadata": {},
   "outputs": [],
   "source": [
    "OSconn.config_manager.set_login(url=os_baseurl, auth=os_auth)\n",
    "prov_api = ProvDb(adapter=Neo4jAdapter, auth_info=neo4j_auth)\n",
    "\n",
    "os_specimen_core = os_core.specimen()\n",
    "os_participant = os_core.participant()\n",
    "os_specimen_util = os_util.specimen_util()\n",
    "os_specimen_events = os_core.specimen_event()\n",
    "os_cp = os_core.collection_protocol()\n",
    "os_form = os_core.form()"
   ]
  },
  {
   "cell_type": "markdown",
   "id": "483042bd-aa99-404d-82d4-94cb3a9ad51a",
   "metadata": {
    "jp-MarkdownHeadingCollapsed": true,
    "tags": []
   },
   "source": [
    "## Some tests"
   ]
  },
  {
   "cell_type": "code",
   "execution_count": 12,
   "id": "63ee2448-8c1b-4ae0-83d3-3e068d33dc6e",
   "metadata": {},
   "outputs": [],
   "source": [
    "#OSconn.config_manager.get_url()\n",
    "#from OpenSpecimenAPIconnector import config_manager\n",
    "#config_manager.get_url()\n",
    "#OSconn.specimen()\n",
    "#os_specimen_core = os_core.specimen()"
   ]
  },
  {
   "cell_type": "markdown",
   "id": "3c8c8529-990e-4ff3-9803-a53e8890235a",
   "metadata": {},
   "source": [
    "# Write Provenance for single specimen"
   ]
  },
  {
   "cell_type": "code",
   "execution_count": null,
   "id": "8ecff139-3134-4e0f-a1a7-f597d7118811",
   "metadata": {},
   "outputs": [],
   "source": [
    "specimen_id = 2\n",
    "parent_entity_id = ''\n",
    "\n",
    "specimen_events = os_specimen_events.get_specimen_events(specimen_id)\n",
    "event_df = create_event_df(specimen_events)\n",
    "\n",
    "for index, row in event_df.iterrows():\n",
    "    known_agents = get_known_agents()\n",
    "    if row['EventType'] == 'SpecimenCollectionEvent':\n",
    "        prov_specimencreationevent(row, specimen_id)\n",
    "    elif row['EventType'] == 'SpecimenReceivedEvent':\n",
    "        prov_specimenreceivedevent(row, specimen_id)\n",
    "    elif row['EventType'] == 'SpecimenTransferEvent':\n",
    "        prov_specimentransferevent(row, specimen_id)\n",
    "    elif row['EventType'] == 'SpecimenShipmentShippedEvent':\n",
    "        prov_specimenshipmentshippedevent(row, specimen_id)\n",
    "    elif row['EventType'] == 'SpecimenShipmentReceivedEvent':\n",
    "        prov_specimenshipmentreceivedevent(row, specimen_id)\n",
    "    elif row['EventType'] == 'SpecimenChildrenEvent':\n",
    "        prov_specimenchildrenevent(row, specimen_id)"
   ]
  },
  {
   "cell_type": "markdown",
   "id": "cc29f1e7-cdde-4824-903b-db50ea093a46",
   "metadata": {},
   "source": [
    "# Get Provenance Bundle for single specimen"
   ]
  },
  {
   "cell_type": "code",
   "execution_count": 26,
   "id": "3a1657b5-2875-4071-b49d-4fd1dbbdce1a",
   "metadata": {},
   "outputs": [
    {
     "name": "stdout",
     "output_type": "stream",
     "text": [
      "all neighbors for http://biobank_URI/specimens/cc848e6e-4410-4f58-8ed3-b8c6d30158e4\n",
      "all neighbors for http://biobank_URI/specimens/66dfbf30-1ead-493b-80f2-79b859285a94\n",
      "all neighbors for http://biobank_URI/specimens/5529e0cb-a415-4fd5-bf14-a7f1753cad4e\n",
      "all neighbors for http://biobank_URI/specimens/f8daa610-9ac5-4a53-87ee-341d988aff79\n",
      "all neighbors for http://biobank_URI/specimens/d6c23777-f3a8-4b0a-9745-5b5eb7d385f0\n",
      "all neighbors for http://biobank_URI/specimens/d0c57951-901f-4287-bb29-24fbc821bc94\n",
      "all neighbors for http://biobank_URI/specimens/b06bf5be-b80c-480e-809c-5cad817709db\n",
      "Prov.ID of the entitiy of interest: cc848e6e-4410-4f58-8ed3-b8c6d30158e4\n",
      "('bundle ns_biobank_bundle:TestBundle\\n'\n",
      " '  prefix ns_biobank_activity <http://biobank_URI/SOPs/>\\n'\n",
      " '  prefix ns_biobank_agent <http://biobank_URI/personal/>\\n'\n",
      " '  prefix ns_biobank_other_attributes <http://biobank_URI/other_attributes/>\\n'\n",
      " '  prefix ns_biobank_specimens <http://biobank_URI/specimens/>\\n'\n",
      " '  \\n'\n",
      " '  entity(ns_biobank_specimens:cc848e6e-4410-4f58-8ed3-b8c6d30158e4)\\n'\n",
      " '  '\n",
      " 'wasAssociatedWith(ns_biobank_activity:a020060a-878d-4558-ac10-361ce685972c, '\n",
      " 'ns_biobank_agent:57ede5be-f04e-4928-b60a-198bf915c41c, -)\\n'\n",
      " '  agent(ns_biobank_agent:57ede5be-f04e-4928-b60a-198bf915c41c, '\n",
      " '[ns_biobank_other_attributes:externalID=\"ExampleInstance-OS-AGENT-C K\"])\\n'\n",
      " '  wasGeneratedBy(ns_biobank_specimens:cc848e6e-4410-4f58-8ed3-b8c6d30158e4, '\n",
      " 'ns_biobank_activity:a020060a-878d-4558-ac10-361ce685972c, -)\\n'\n",
      " '  wasDerivedFrom(ns_biobank_specimens:cc848e6e-4410-4f58-8ed3-b8c6d30158e4, '\n",
      " 'ns_biobank_specimens:66dfbf30-1ead-493b-80f2-79b859285a94, -, -, -)\\n'\n",
      " '  entity(ns_biobank_specimens:66dfbf30-1ead-493b-80f2-79b859285a94)\\n'\n",
      " '  '\n",
      " 'wasAssociatedWith(ns_biobank_activity:b37eedd5-6e7b-4b94-bc78-bac0638dfc35, '\n",
      " 'ns_biobank_agent:9da3a7b2-e351-4700-90e5-fa74a96d3474, -)\\n'\n",
      " '  agent(ns_biobank_agent:9da3a7b2-e351-4700-90e5-fa74a96d3474, '\n",
      " '[ns_biobank_other_attributes:externalID=\"ExampleInstance-OS-AGENT-System '\n",
      " 'Administrator-2\"])\\n'\n",
      " '  '\n",
      " 'wasAssociatedWith(ns_biobank_activity:a020060a-878d-4558-ac10-361ce685972c, '\n",
      " 'ns_biobank_agent:57ede5be-f04e-4928-b60a-198bf915c41c, -)\\n'\n",
      " '  agent(ns_biobank_agent:57ede5be-f04e-4928-b60a-198bf915c41c, '\n",
      " '[ns_biobank_other_attributes:externalID=\"ExampleInstance-OS-AGENT-C K\"])\\n'\n",
      " '  wasGeneratedBy(ns_biobank_specimens:66dfbf30-1ead-493b-80f2-79b859285a94, '\n",
      " 'ns_biobank_activity:b37eedd5-6e7b-4b94-bc78-bac0638dfc35, -)\\n'\n",
      " '  wasDerivedFrom(ns_biobank_specimens:66dfbf30-1ead-493b-80f2-79b859285a94, '\n",
      " 'ns_biobank_specimens:5529e0cb-a415-4fd5-bf14-a7f1753cad4e, -, -, -)\\n'\n",
      " '  entity(ns_biobank_specimens:5529e0cb-a415-4fd5-bf14-a7f1753cad4e)\\n'\n",
      " '  '\n",
      " 'wasAssociatedWith(ns_biobank_activity:7b0d8ac5-b57a-4880-9c81-0b35521eda5c, '\n",
      " 'ns_biobank_agent:9da3a7b2-e351-4700-90e5-fa74a96d3474, -)\\n'\n",
      " '  agent(ns_biobank_agent:9da3a7b2-e351-4700-90e5-fa74a96d3474, '\n",
      " '[ns_biobank_other_attributes:externalID=\"ExampleInstance-OS-AGENT-System '\n",
      " 'Administrator-2\"])\\n'\n",
      " '  '\n",
      " 'wasAssociatedWith(ns_biobank_activity:b37eedd5-6e7b-4b94-bc78-bac0638dfc35, '\n",
      " 'ns_biobank_agent:9da3a7b2-e351-4700-90e5-fa74a96d3474, -)\\n'\n",
      " '  agent(ns_biobank_agent:9da3a7b2-e351-4700-90e5-fa74a96d3474, '\n",
      " '[ns_biobank_other_attributes:externalID=\"ExampleInstance-OS-AGENT-System '\n",
      " 'Administrator-2\"])\\n'\n",
      " '  wasGeneratedBy(ns_biobank_specimens:5529e0cb-a415-4fd5-bf14-a7f1753cad4e, '\n",
      " 'ns_biobank_activity:7b0d8ac5-b57a-4880-9c81-0b35521eda5c, -)\\n'\n",
      " '  wasDerivedFrom(ns_biobank_specimens:5529e0cb-a415-4fd5-bf14-a7f1753cad4e, '\n",
      " 'ns_biobank_specimens:f8daa610-9ac5-4a53-87ee-341d988aff79, -, -, -)\\n'\n",
      " '  entity(ns_biobank_specimens:f8daa610-9ac5-4a53-87ee-341d988aff79)\\n'\n",
      " '  '\n",
      " 'wasAssociatedWith(ns_biobank_activity:bef465c8-3799-4f94-8d3f-1b2094c33439, '\n",
      " 'ns_biobank_agent:9da3a7b2-e351-4700-90e5-fa74a96d3474, -)\\n'\n",
      " '  agent(ns_biobank_agent:9da3a7b2-e351-4700-90e5-fa74a96d3474, '\n",
      " '[ns_biobank_other_attributes:externalID=\"ExampleInstance-OS-AGENT-System '\n",
      " 'Administrator-2\"])\\n'\n",
      " '  '\n",
      " 'wasAssociatedWith(ns_biobank_activity:7b0d8ac5-b57a-4880-9c81-0b35521eda5c, '\n",
      " 'ns_biobank_agent:9da3a7b2-e351-4700-90e5-fa74a96d3474, -)\\n'\n",
      " '  agent(ns_biobank_agent:9da3a7b2-e351-4700-90e5-fa74a96d3474, '\n",
      " '[ns_biobank_other_attributes:externalID=\"ExampleInstance-OS-AGENT-System '\n",
      " 'Administrator-2\"])\\n'\n",
      " '  wasGeneratedBy(ns_biobank_specimens:f8daa610-9ac5-4a53-87ee-341d988aff79, '\n",
      " 'ns_biobank_activity:bef465c8-3799-4f94-8d3f-1b2094c33439, -)\\n'\n",
      " '  wasDerivedFrom(ns_biobank_specimens:f8daa610-9ac5-4a53-87ee-341d988aff79, '\n",
      " 'ns_biobank_specimens:d6c23777-f3a8-4b0a-9745-5b5eb7d385f0, -, -, -)\\n'\n",
      " '  entity(ns_biobank_specimens:d6c23777-f3a8-4b0a-9745-5b5eb7d385f0)\\n'\n",
      " '  '\n",
      " 'wasAssociatedWith(ns_biobank_activity:f55fae63-67bc-4d2e-bc28-4c89b4944905, '\n",
      " 'ns_biobank_agent:9da3a7b2-e351-4700-90e5-fa74a96d3474, -)\\n'\n",
      " '  agent(ns_biobank_agent:9da3a7b2-e351-4700-90e5-fa74a96d3474, '\n",
      " '[ns_biobank_other_attributes:externalID=\"ExampleInstance-OS-AGENT-System '\n",
      " 'Administrator-2\"])\\n'\n",
      " '  '\n",
      " 'wasAssociatedWith(ns_biobank_activity:bef465c8-3799-4f94-8d3f-1b2094c33439, '\n",
      " 'ns_biobank_agent:9da3a7b2-e351-4700-90e5-fa74a96d3474, -)\\n'\n",
      " '  agent(ns_biobank_agent:9da3a7b2-e351-4700-90e5-fa74a96d3474, '\n",
      " '[ns_biobank_other_attributes:externalID=\"ExampleInstance-OS-AGENT-System '\n",
      " 'Administrator-2\"])\\n'\n",
      " '  wasGeneratedBy(ns_biobank_specimens:d6c23777-f3a8-4b0a-9745-5b5eb7d385f0, '\n",
      " 'ns_biobank_activity:f55fae63-67bc-4d2e-bc28-4c89b4944905, -)\\n'\n",
      " '  wasDerivedFrom(ns_biobank_specimens:d6c23777-f3a8-4b0a-9745-5b5eb7d385f0, '\n",
      " 'ns_biobank_specimens:d0c57951-901f-4287-bb29-24fbc821bc94, -, -, -)\\n'\n",
      " '  entity(ns_biobank_specimens:d0c57951-901f-4287-bb29-24fbc821bc94)\\n'\n",
      " '  '\n",
      " 'wasAssociatedWith(ns_biobank_activity:d89cf802-e96e-4518-829d-de478a1c55f7, '\n",
      " 'ns_biobank_agent:7cb50791-2d17-4d48-80b7-c734386ad26c, -)\\n'\n",
      " '  agent(ns_biobank_agent:7cb50791-2d17-4d48-80b7-c734386ad26c, '\n",
      " '[ns_biobank_other_attributes:externalID=\"ExampleInstance-OS-AGENT-Lab '\n",
      " 'Technician-7\"])\\n'\n",
      " '  '\n",
      " 'wasAssociatedWith(ns_biobank_activity:f55fae63-67bc-4d2e-bc28-4c89b4944905, '\n",
      " 'ns_biobank_agent:9da3a7b2-e351-4700-90e5-fa74a96d3474, -)\\n'\n",
      " '  agent(ns_biobank_agent:9da3a7b2-e351-4700-90e5-fa74a96d3474, '\n",
      " '[ns_biobank_other_attributes:externalID=\"ExampleInstance-OS-AGENT-System '\n",
      " 'Administrator-2\"])\\n'\n",
      " '  wasGeneratedBy(ns_biobank_specimens:d0c57951-901f-4287-bb29-24fbc821bc94, '\n",
      " 'ns_biobank_activity:d89cf802-e96e-4518-829d-de478a1c55f7, -)\\n'\n",
      " '  wasDerivedFrom(ns_biobank_specimens:d0c57951-901f-4287-bb29-24fbc821bc94, '\n",
      " 'ns_biobank_specimens:b06bf5be-b80c-480e-809c-5cad817709db, -, -, -)\\n'\n",
      " '  entity(ns_biobank_specimens:b06bf5be-b80c-480e-809c-5cad817709db)\\n'\n",
      " '  '\n",
      " 'wasAssociatedWith(ns_biobank_activity:037532b9-f135-4cff-bf9e-64dd40605635, '\n",
      " 'ns_biobank_agent:6b0441d4-21a0-4054-aa32-d6e38f7342f2, -)\\n'\n",
      " '  agent(ns_biobank_agent:6b0441d4-21a0-4054-aa32-d6e38f7342f2, '\n",
      " '[ns_biobank_other_attributes:externalID=\"ExampleInstance-OS-AGENT-A W-9\"])\\n'\n",
      " '  '\n",
      " 'wasAssociatedWith(ns_biobank_activity:d89cf802-e96e-4518-829d-de478a1c55f7, '\n",
      " 'ns_biobank_agent:7cb50791-2d17-4d48-80b7-c734386ad26c, -)\\n'\n",
      " '  agent(ns_biobank_agent:7cb50791-2d17-4d48-80b7-c734386ad26c, '\n",
      " '[ns_biobank_other_attributes:externalID=\"ExampleInstance-OS-AGENT-Lab '\n",
      " 'Technician-7\"])\\n'\n",
      " '  wasGeneratedBy(ns_biobank_specimens:b06bf5be-b80c-480e-809c-5cad817709db, '\n",
      " 'ns_biobank_activity:037532b9-f135-4cff-bf9e-64dd40605635, -)\\n'\n",
      " '  used(ns_biobank_activity:d89cf802-e96e-4518-829d-de478a1c55f7, '\n",
      " 'ns_biobank_specimens:b06bf5be-b80c-480e-809c-5cad817709db, -)\\n'\n",
      " '  '\n",
      " 'wasInvalidatedBy(ns_biobank_specimens:b06bf5be-b80c-480e-809c-5cad817709db, '\n",
      " 'ns_biobank_activity:d89cf802-e96e-4518-829d-de478a1c55f7, -)\\n'\n",
      " '  wasAssociatedWith(-, -, -, [prov:type=\"prov:bundleAssociation\"])\\n'\n",
      " '  used(ns_biobank_activity:f55fae63-67bc-4d2e-bc28-4c89b4944905, '\n",
      " 'ns_biobank_specimens:d0c57951-901f-4287-bb29-24fbc821bc94, -)\\n'\n",
      " '  '\n",
      " 'wasInvalidatedBy(ns_biobank_specimens:d0c57951-901f-4287-bb29-24fbc821bc94, '\n",
      " 'ns_biobank_activity:f55fae63-67bc-4d2e-bc28-4c89b4944905, -)\\n'\n",
      " '  wasAssociatedWith(-, -, -, [prov:type=\"prov:bundleAssociation\"])\\n'\n",
      " '  used(ns_biobank_activity:bef465c8-3799-4f94-8d3f-1b2094c33439, '\n",
      " 'ns_biobank_specimens:d6c23777-f3a8-4b0a-9745-5b5eb7d385f0, -)\\n'\n",
      " '  '\n",
      " 'wasInvalidatedBy(ns_biobank_specimens:d6c23777-f3a8-4b0a-9745-5b5eb7d385f0, '\n",
      " 'ns_biobank_activity:bef465c8-3799-4f94-8d3f-1b2094c33439, -)\\n'\n",
      " '  wasAssociatedWith(-, -, -, [prov:type=\"prov:bundleAssociation\"])\\n'\n",
      " '  used(ns_biobank_activity:7b0d8ac5-b57a-4880-9c81-0b35521eda5c, '\n",
      " 'ns_biobank_specimens:f8daa610-9ac5-4a53-87ee-341d988aff79, -)\\n'\n",
      " '  '\n",
      " 'wasInvalidatedBy(ns_biobank_specimens:f8daa610-9ac5-4a53-87ee-341d988aff79, '\n",
      " 'ns_biobank_activity:7b0d8ac5-b57a-4880-9c81-0b35521eda5c, -)\\n'\n",
      " '  wasAssociatedWith(-, -, -, [prov:type=\"prov:bundleAssociation\"])\\n'\n",
      " '  used(ns_biobank_activity:b37eedd5-6e7b-4b94-bc78-bac0638dfc35, '\n",
      " 'ns_biobank_specimens:5529e0cb-a415-4fd5-bf14-a7f1753cad4e, -)\\n'\n",
      " '  '\n",
      " 'wasInvalidatedBy(ns_biobank_specimens:5529e0cb-a415-4fd5-bf14-a7f1753cad4e, '\n",
      " 'ns_biobank_activity:b37eedd5-6e7b-4b94-bc78-bac0638dfc35, -)\\n'\n",
      " '  wasAssociatedWith(-, -, -, [prov:type=\"prov:bundleAssociation\"])\\n'\n",
      " '  used(ns_biobank_activity:a020060a-878d-4558-ac10-361ce685972c, '\n",
      " 'ns_biobank_specimens:66dfbf30-1ead-493b-80f2-79b859285a94, -)\\n'\n",
      " '  '\n",
      " 'wasInvalidatedBy(ns_biobank_specimens:66dfbf30-1ead-493b-80f2-79b859285a94, '\n",
      " 'ns_biobank_activity:a020060a-878d-4558-ac10-361ce685972c, -)\\n'\n",
      " '  wasAssociatedWith(-, -, -, [prov:type=\"prov:bundleAssociation\"])\\n'\n",
      " '  wasAssociatedWith(-, -, -, [prov:type=\"prov:bundleAssociation\"])\\n'\n",
      " 'endBundle')\n"
     ]
    }
   ],
   "source": [
    "    prov_id = get_latest_instance_for_extid('ExampleInstance-SPECIMEN-2')\n",
    "\n",
    "\n",
    "    namespace_dict = {NAMESPACE_ENITIES: \"http://biobank_URI/specimens/\",\n",
    "                      NAMESPACE_AGENTS: \"http://biobank_URI/personal/\",\n",
    "                      NAMESPACE_ACTIONS: \"http://biobank_URI/SOPs/\",\n",
    "                      NAMESPACE_BUNDLES: \"http://biobank_URI/bundle/\",\n",
    "                      \"snomed\": 'http://purl.bioontology.org/ontology/SNOMEDCT'\n",
    "                      }\n",
    "\n",
    "\n",
    "    bundle = get_prov_for_sample(prov_api=prov_api,\n",
    "                                      identifier=prov_id,\n",
    "                                      bundleName=\"TestBundle\",\n",
    "                                      namespace_dict=namespace_dict,\n",
    "                                      max_steps=50,\n",
    "                                      stop_at_entity='',\n",
    "                                      getAgents=True)\n",
    "\n",
    "\n",
    "\n",
    "    print(f\"Prov.ID of the entitiy of interest: {prov_id}\")\n",
    "    # bundle_id = prov_api.save_bundle(bundle)\n",
    "    # This would save the bundle as an entity in the Neo4j database\n",
    "    pprint(bundle.get_provn())"
   ]
  },
  {
   "cell_type": "markdown",
   "id": "fe146c36-8a60-40d3-beb5-6d18038d8a5f",
   "metadata": {
    "jp-MarkdownHeadingCollapsed": true,
    "tags": []
   },
   "source": [
    "# Other Tests - EJ"
   ]
  },
  {
   "cell_type": "code",
   "execution_count": 16,
   "id": "3ab478dd-6110-4e02-bf29-4af7af6ab7c6",
   "metadata": {
    "pycharm": {
     "name": "#%%\n"
    }
   },
   "outputs": [],
   "source": [
    "# this is dangerous when doc gets changes I might not expect this... \n",
    "def _create_association(doc, mem1, mem2):\n",
    "    doc.association(activity=mem1, agent=mem2)\n",
    "    return doc\n",
    "\n",
    "def _create_wasGeneratedBy(doc, mem1, mem2):\n",
    "    doc.wasGeneratedBy(mem1, mem2)\n",
    "    return doc\n",
    "\n",
    "def _derivedFrom(doc, mem1, mem2):\n",
    "    doc.wasDerivedFrom(mem1,mem2)\n",
    "    return doc\n",
    "\n",
    "def _used(doc, mem1, mem2):\n",
    "    doc.used(mem1,mem2)\n",
    "    return doc\n",
    "def ex_os_prov_to_neo():\n",
    "\n",
    "    process = \"aliquotize\"\n",
    "    process2 = \"derivate\"\n",
    "    agent_str1 = \"Patio\"\n",
    "    agent_str2 = \"Maxio\"\n",
    "    entity_str = \"specimen_01\"\n",
    "    entity_str2 = \"aliquot_01\"\n",
    "    entity_str3 = \"derivative_01\"\n",
    "     \n",
    "    activity1 = \"{}:{}\".format(NAMESPACE_ACTIONS, process)\n",
    "    activity2 = \"{}:{}\".format(NAMESPACE_ACTIONS, process2)\n",
    "    agent1 = \"{}:{}\".format(NAMESPACE_AGENTS, agent_str1)\n",
    "    agent2 = \"{}:{}\".format(NAMESPACE_AGENTS, agent_str2)\n",
    "    entity = \"{}:{}\".format(NAMESPACE_ENITIES, entity_str)\n",
    "    entity2 = \"{}:{}\".format(NAMESPACE_ENITIES, entity_str2)\n",
    "    entity3 = \"{}:{}\".format(NAMESPACE_ENITIES, entity_str3)\n",
    "    doc = ProvDocument()\n",
    "    #doc.set_default_namespace(\"http://biobank_URI/default/\")\n",
    "    #important '/' at end because it will be concatinated with locpath of nodes\n",
    "    doc.add_namespace(NAMESPACE_ENITIES, \"http://biobank_URI/specimens/\")\n",
    "    doc.add_namespace(NAMESPACE_AGENTS, \"http://biobank_URI/personal/\")\n",
    "    doc.add_namespace(NAMESPACE_ACTIONS, \"http://biobank_URI/SOPs/\")\n",
    "    doc.add_namespace(NAMESPACE_BUNDLES, \"http://biobank_URI/bundle/\")\n",
    "    doc.add_namespace(\"snomed\",'http://purl.bioontology.org/ontology/SNOMEDCT')\n",
    "    \n",
    "    #prov_document.association(activity1,agent1)\n",
    "    #b0 = doc.bundle(f\"{NAMESPACE_BUNDLES}:bundle0\")\n",
    "    b1 = doc.bundle(f\"{NAMESPACE_BUNDLES}:bundle1\")\n",
    "    b2 = doc.bundle(f\"{NAMESPACE_BUNDLES}:bundle2\")\n",
    "    #doc.entity(f\"{NAMESPACE_BUNDLES}:bundle0\")\n",
    "    #b0.entity(f\"{NAMESPACE_BUNDLES}:bundle1\")\n",
    "    #b0.entity(f\"{NAMESPACE_BUNDLES}:bundle2\")\n",
    "    \n",
    "    doc.agent(agent1)\n",
    "    doc.agent(agent2)\n",
    "    doc.activity(activity1)\n",
    "    doc.activity(activity2)\n",
    "    doc.entity(entity)\n",
    "    doc.entity(entity2)\n",
    "    doc.entity(entity3)\n",
    "    \n",
    "    # create bundle\n",
    "    #b1 = doc.bundle(f\"{NAMESPACE_BUNDLES}:bundle1\")\n",
    "    #b1.agent(f\"{NAMESPACE_AGENTS}:Yoda\")\n",
    "\n",
    "    #b2 = doc.bundle(f\"{NAMESPACE_BUNDLES}:bundle2\")\n",
    "    #b2.agent(f\"{NAMESPACE_AGENTS}:Jabba the Hutt\")\n",
    "    \n",
    "    b1.agent(agent1,other_attributes={\"snomed:age\": 69})\n",
    "    b2.agent(agent2,other_attributes={\"snomed:age\": 420})\n",
    "    b1.activity(activity1)\n",
    "    b2.activity(activity2)\n",
    "    b1.entity(entity)\n",
    "    b1.entity(entity2)\n",
    "    b2.entity(entity2)\n",
    "    b2.entity(entity3)\n",
    "    \n",
    "    b1.association(activity=activity1, agent=agent1)\n",
    "    b1.wasGeneratedBy(entity2, activity1)\n",
    "    b1.used(activity1, entity)\n",
    "    b1.wasDerivedFrom(entity2, entity)\n",
    "    \n",
    "    b2.association(activity=activity2, agent=agent2)\n",
    "    b2.wasGeneratedBy(entity3, activity2)\n",
    "    b2.used(activity2, entity2)\n",
    "    b2.wasDerivedFrom(entity3, entity2)\n",
    "    \n",
    "    \n",
    "    _create_association(doc, activity1, agent1)\n",
    "    _create_association(doc, activity2, agent2)\n",
    "    _create_wasGeneratedBy(doc, entity2, activity1)\n",
    "    _create_wasGeneratedBy(doc, entity3, activity2)\n",
    "    _used(doc, activity1, entity)\n",
    "    _used(doc, activity2, entity2)\n",
    "    _derivedFrom(doc, entity2, entity)\n",
    "    _derivedFrom(doc, entity3, entity2)\n",
    "\n",
    "    #doc = _create_association(doc, activity1, agent1)\n",
    "    #doc = _create_association(doc, activity2, agent2)\n",
    "    #doc = _create_wasGeneratedBy(doc, entity2, activity1)\n",
    "    #doc = _create_wasGeneratedBy(doc, entity3, activity2)\n",
    "    #doc = _used(doc, activity1, entity)\n",
    "    #doc = _used(doc, activity2, entity2)\n",
    "    #doc = _derivedFrom(doc, entity2, entity)\n",
    "    #doc = _derivedFrom(doc, entity3, entity2)\n",
    "\n",
    "\n",
    "    return doc"
   ]
  },
  {
   "cell_type": "code",
   "execution_count": 17,
   "id": "d259bcf8-1758-45a2-a643-7a36bc7e461a",
   "metadata": {
    "pycharm": {
     "name": "#%%\n"
    }
   },
   "outputs": [
    {
     "name": "stdout",
     "output_type": "stream",
     "text": [
      "ab13a43d-f272-466f-8320-d54f90e32238\n"
     ]
    }
   ],
   "source": [
    "# Delete aff in new4j: MATCH (n) DETACH DELETE n\n",
    "\n",
    "docu =  ex_os_prov_to_neo()\n",
    "id = prov_api.save_document(docu)\n",
    "print(id)"
   ]
  },
  {
   "cell_type": "code",
   "execution_count": 9,
   "id": "be0a714f-ac10-42ba-b47f-3b7840457da7",
   "metadata": {
    "pycharm": {
     "name": "#%%\n"
    }
   },
   "outputs": [
    {
     "name": "stdout",
     "output_type": "stream",
     "text": [
      "('{\"prefix\": {\"ns_biobank_sop\": \"http://biobank_URI/SOPs/\", '\n",
      " '\"ns_biobank_personal\": \"http://biobank_URI/personal/\", '\n",
      " '\"ns_biobank_specimens\": \"http://biobank_URI/specimens/\", '\n",
      " '\"ns_biobank_bundle\": \"http://biobank_URI/bundle/\", \"snomed\": '\n",
      " '\"http://purl.bioontology.org/ontology/SNOMEDCT\"}, \"wasAssociatedWith\": '\n",
      " '{\"_:id1\": {\"prov:agent\": \"ns_biobank_personal:Patio\", \"prov:activity\": '\n",
      " '\"ns_biobank_sop:aliquotize\"}, \"_:id2\": {\"prov:agent\": '\n",
      " '\"ns_biobank_personal:Maxio\", \"prov:activity\": \"ns_biobank_sop:derivate\"}}, '\n",
      " '\"used\": {\"_:id3\": {\"prov:entity\": \"ns_biobank_specimens:specimen_01\", '\n",
      " '\"prov:activity\": \"ns_biobank_sop:aliquotize\"}, \"_:id5\": {\"prov:entity\": '\n",
      " '\"ns_biobank_specimens:aliquot_01\", \"prov:activity\": '\n",
      " '\"ns_biobank_sop:derivate\"}}, \"wasGeneratedBy\": {\"_:id4\": {\"prov:entity\": '\n",
      " '\"ns_biobank_specimens:aliquot_01\", \"prov:activity\": '\n",
      " '\"ns_biobank_sop:aliquotize\"}, \"_:id6\": {\"prov:entity\": '\n",
      " '\"ns_biobank_specimens:derivative_01\", \"prov:activity\": '\n",
      " '\"ns_biobank_sop:derivate\"}}, \"wasDerivedFrom\": {\"_:id7\": '\n",
      " '{\"prov:generatedEntity\": \"ns_biobank_specimens:aliquot_01\", '\n",
      " '\"prov:usedEntity\": \"ns_biobank_specimens:specimen_01\"}, \"_:id8\": '\n",
      " '{\"prov:generatedEntity\": \"ns_biobank_specimens:derivative_01\", '\n",
      " '\"prov:usedEntity\": \"ns_biobank_specimens:aliquot_01\"}}, \"entity\": '\n",
      " '{\"ns_biobank_bundle:bundle0\": {\"prov:type\": {\"$\": \"prov:Bundle\", \"type\": '\n",
      " '\"prov:QUALIFIED_NAME\"}}, \"ns_biobank_specimens:specimen_01\": {}, '\n",
      " '\"ns_biobank_specimens:aliquot_01\": {}, \"ns_biobank_specimens:derivative_01\": '\n",
      " '{}}, \"agent\": {\"ns_biobank_personal:Patio\": {\"snomed:age\": {\"$\": 69, \"type\": '\n",
      " '\"xsd:int\"}}, \"ns_biobank_personal:Maxio\": {\"snomed:age\": {\"$\": 420, \"type\": '\n",
      " '\"xsd:int\"}}}, \"activity\": {\"ns_biobank_sop:aliquotize\": {}, '\n",
      " '\"ns_biobank_sop:derivate\": {}}, \"bundle\": {\"ns_biobank_bundle:bundle0\": '\n",
      " '{\"prefix\": {\"ns_biobank_bundle\": \"http://biobank_URI/bundle/\"}, \"entity\": '\n",
      " '{\"ns_biobank_bundle:bundle1\": {\"prov:type\": {\"$\": \"prov:Bundle\", \"type\": '\n",
      " '\"prov:QUALIFIED_NAME\"}}, \"ns_biobank_bundle:bundle2\": {\"prov:type\": {\"$\": '\n",
      " '\"prov:Bundle\", \"type\": \"prov:QUALIFIED_NAME\"}}}}}}')\n"
     ]
    }
   ],
   "source": [
    "#prov_json = json.loads(prov_api.get_document_as_json(document_id=id))\n",
    "#print(prov_json)\n",
    "pprint(prov_api.get_document_as_json(document_id=id))"
   ]
  },
  {
   "cell_type": "code",
   "execution_count": 10,
   "id": "44836c61-1f5f-4d81-bc23-08da106567ee",
   "metadata": {
    "pycharm": {
     "name": "#%%\n"
    }
   },
   "outputs": [
    {
     "name": "stdout",
     "output_type": "stream",
     "text": [
      "'{}'\n"
     ]
    }
   ],
   "source": [
    "pprint(prov_api.get_document_as_json(document_id=\"http://biobank_URI/bundle/bundle0\"))"
   ]
  },
  {
   "cell_type": "code",
   "execution_count": 19,
   "id": "b44ba919-3535-432e-8c2f-73a61d8d5ef4",
   "metadata": {
    "pycharm": {
     "name": "#%%\n"
    }
   },
   "outputs": [
    {
     "name": "stdout",
     "output_type": "stream",
     "text": [
      "entity(ns_biobank_bundle:bundle2, [prov:type='prov:Bundle'])\n",
      "bundle ns_biobank_bundle:bundle2\n",
      "  prefix ns_biobank_personal <http://biobank_URI/personal/>\n",
      "  prefix snomed <http://purl.bioontology.org/ontology/SNOMEDCT>\n",
      "  prefix ns_biobank_sop <http://biobank_URI/SOPs/>\n",
      "  prefix ns_biobank_specimens <http://biobank_URI/specimens/>\n",
      "  \n",
      "  agent(ns_biobank_personal:Maxio, [snomed:age=420])\n",
      "  activity(ns_biobank_sop:derivate, -, -)\n",
      "  entity(ns_biobank_specimens:aliquot_01)\n",
      "  entity(ns_biobank_specimens:derivative_01)\n",
      "  wasAssociatedWith(ns_biobank_sop:derivate, ns_biobank_personal:Maxio, -)\n",
      "  used(ns_biobank_sop:derivate, ns_biobank_specimens:aliquot_01, -)\n",
      "  wasGeneratedBy(ns_biobank_specimens:derivative_01, ns_biobank_sop:derivate, -)\n",
      "  wasDerivedFrom(ns_biobank_specimens:derivative_01, ns_biobank_specimens:aliquot_01, -, -, -)\n",
      "endBundle\n"
     ]
    }
   ],
   "source": [
    "kk = QualifiedName(docu._namespaces[NAMESPACE_BUNDLES], \"bundle2\")\n",
    "#print(kk)\n",
    "\n",
    "#prov_element=prov_api.get_element(kk)\n",
    "#print(prov_element.get_provn())\n",
    "print(prov_api.get_bundle(kk).get_provn())"
   ]
  },
  {
   "cell_type": "markdown",
   "id": "976d263b-248e-493f-9f23-d9c48f72f506",
   "metadata": {
    "pycharm": {
     "name": "#%% md\n"
    }
   },
   "source": [
    "### update a entity"
   ]
  },
  {
   "cell_type": "code",
   "execution_count": 190,
   "id": "21e10269-f1df-44cc-a53a-d1a9a693905b",
   "metadata": {
    "pycharm": {
     "name": "#%%\n"
    }
   },
   "outputs": [],
   "source": [
    "#Create the second prov document and merge the ex:Bob entry\n",
    "second_prov_document = ProvDocument()\n",
    "second_prov_document.add_namespace(\"snomed\",'http://purl.bioontology.org/ontology/SNOMEDCT')\n",
    "second_prov_document.add_namespace(NAMESPACE_ENITIES, \"http://biobank_URI/specimens/\")\n",
    "       \n",
    "second_prov_document.entity(f\"{NAMESPACE_ENITIES}:aliquot_01\", other_attributes={\"snomed:Specimen\": \"Slide\"})\n",
    "\n",
    "second_document_id = prov_api.save_document(second_prov_document)"
   ]
  },
  {
   "cell_type": "code",
   "execution_count": 191,
   "id": "72cafe17-35dd-46cd-bd1c-7c22346ac90b",
   "metadata": {
    "pycharm": {
     "name": "#%%\n"
    }
   },
   "outputs": [
    {
     "name": "stdout",
     "output_type": "stream",
     "text": [
      "bundle ns_biobank_bundle:bundle2\n",
      "  prefix ns_biobank_personal <http://biobank_URI/personal/>\n",
      "  prefix snomed <http://purl.bioontology.org/ontology/SNOMEDCT>\n",
      "  prefix ns_biobank_sop <http://biobank_URI/SOPs/>\n",
      "  prefix ns_biobank_specimens <http://biobank_URI/specimens/>\n",
      "  \n",
      "  agent(ns_biobank_personal:Maxio, [snomed:age=420])\n",
      "  activity(ns_biobank_sop:derivate, -, -)\n",
      "  entity(ns_biobank_specimens:aliquot_01, [snomed:Specimen=\"Slide\"])\n",
      "  entity(ns_biobank_specimens:derivative_01)\n",
      "  wasAssociatedWith(ns_biobank_sop:derivate, ns_biobank_personal:Maxio, -)\n",
      "  used(ns_biobank_sop:derivate, ns_biobank_specimens:aliquot_01, -)\n",
      "  wasGeneratedBy(ns_biobank_specimens:derivative_01, ns_biobank_sop:derivate, -)\n",
      "  wasDerivedFrom(ns_biobank_specimens:derivative_01, ns_biobank_specimens:aliquot_01, -, -, -)\n",
      "endBundle\n"
     ]
    }
   ],
   "source": [
    "kk = QualifiedName(docu._namespaces[NAMESPACE_BUNDLES], \"bundle2\")\n",
    "#print(kk)\n",
    "\n",
    "prov_element=prov_api.get_element(kk)\n",
    "#print(prov_element.get_provn())\n",
    "print(prov_api.get_bundle(kk).get_provn())"
   ]
  },
  {
   "cell_type": "code",
   "execution_count": 19,
   "id": "982af4fa-f794-4840-8676-0a31e48745a4",
   "metadata": {
    "pycharm": {
     "name": "#%%\n"
    }
   },
   "outputs": [],
   "source": [
    "#docu.test=\"123\"\n",
    "docu.uri= 'ns_biobabank:biobank_URI'"
   ]
  },
  {
   "cell_type": "code",
   "execution_count": 33,
   "id": "ccc82211-3495-4d00-8228-036402cd2906",
   "metadata": {
    "pycharm": {
     "name": "#%%\n"
    }
   },
   "outputs": [],
   "source": [
    "docu =  ex_os_prov_to_neo()\n"
   ]
  },
  {
   "cell_type": "code",
   "execution_count": 155,
   "id": "34a43ac6-1b6e-4df9-9cd7-e0f22b4e4b74",
   "metadata": {
    "pycharm": {
     "name": "#%%\n"
    }
   },
   "outputs": [
    {
     "data": {
      "text/plain": [
       "'document\\n  prefix ns_biobank <http://biobank_URI>\\n  \\n  agent(ns_biobank:user2)\\n  activity(ns_biobank:aliquotize, -, -)\\n  activity(ns_biobank:derivate, -, -)\\n  entity(ns_biobank:specimen)\\n  entity(ns_biobank:aliquot)\\n  entity(ns_biobank:derivative)\\n  wasAssociatedWith(ns_biobank:aliquotize, ns_biobank:user2, -)\\n  wasAssociatedWith(ns_biobank:derivate, ns_biobank:user2, -)\\n  wasGeneratedBy(ns_biobank:aliquot, ns_biobank:aliquotize, -)\\n  wasGeneratedBy(ns_biobank:derivative, ns_biobank:derivate, -)\\n  used(ns_biobank:aliquotize, ns_biobank:specimen, -)\\n  used(ns_biobank:derivate, ns_biobank:aliquot, -)\\n  wasDerivedFrom(ns_biobank:aliquot, ns_biobank:specimen, -, -, -)\\n  wasDerivedFrom(ns_biobank:derivative, ns_biobank:aliquot, -, -, -)\\nendDocument'"
      ]
     },
     "execution_count": 155,
     "metadata": {},
     "output_type": "execute_result"
    }
   ],
   "source": [
    "docu.get_provn()"
   ]
  },
  {
   "cell_type": "code",
   "execution_count": 141,
   "id": "b5cb2e51-407d-47a3-a1c0-523488f7081e",
   "metadata": {
    "pycharm": {
     "name": "#%%\n"
    }
   },
   "outputs": [
    {
     "name": "stdout",
     "output_type": "stream",
     "text": [
      "ns_biobank:aliquot\n"
     ]
    }
   ],
   "source": [
    "#doc = ProvDocument()\n",
    "\n",
    "kk = QualifiedName(docu._namespaces['ns_biobank'], \"aliquot\")\n",
    "#kk = QualifiedName(docu._namespaces['prov'], \"agent\")\n",
    "print(kk)\n",
    "\n",
    "\n",
    "\n"
   ]
  },
  {
   "cell_type": "code",
   "execution_count": 146,
   "id": "2f71ac42-d693-46ea-a069-ecbbafe1a4cf",
   "metadata": {
    "pycharm": {
     "name": "#%%\n"
    }
   },
   "outputs": [],
   "source": [
    "prov_element=prov_api.get_element(kk)"
   ]
  },
  {
   "cell_type": "code",
   "execution_count": 147,
   "id": "3571893d-d6e4-4455-bfb6-e6fcd8053c7a",
   "metadata": {
    "pycharm": {
     "name": "#%%\n"
    }
   },
   "outputs": [
    {
     "data": {
      "text/plain": [
       "'entity(ns_biobank:aliquot)'"
      ]
     },
     "execution_count": 147,
     "metadata": {},
     "output_type": "execute_result"
    }
   ],
   "source": [
    "prov_element.get_provn()"
   ]
  },
  {
   "cell_type": "code",
   "execution_count": 150,
   "id": "94a9c3c3-4563-40b5-8ae1-1b0e9ca98452",
   "metadata": {
    "pycharm": {
     "name": "#%%\n"
    }
   },
   "outputs": [
    {
     "data": {
      "text/plain": [
       "'bundle ns_biobank:aliquot\\nendBundle'"
      ]
     },
     "execution_count": 150,
     "metadata": {},
     "output_type": "execute_result"
    }
   ],
   "source": [
    "prov_api.get_bundle(kk).get_provn()"
   ]
  },
  {
   "cell_type": "markdown",
   "id": "dd1f7335-f8e9-49c3-8d59-04aef15e569c",
   "metadata": {
    "pycharm": {
     "name": "#%% md\n"
    }
   },
   "source": [
    "### Test it step by step\n",
    "#### get_element"
   ]
  },
  {
   "cell_type": "code",
   "execution_count": 126,
   "id": "e3250b3c-afa4-4142-8db6-802e560264fd",
   "metadata": {
    "pycharm": {
     "name": "#%%\n"
    }
   },
   "outputs": [
    {
     "name": "stdout",
     "output_type": "stream",
     "text": [
      "{'identifier': 'http://biobank_URIuser'}\n"
     ]
    }
   ],
   "source": [
    "from provdbconnector.db_adapters.baseadapter import METADATA_KEY_IDENTIFIER\n",
    "# Include namespace uri into the identifier to support e.g. different default namespaces\n",
    "global_identifier = kk.namespace.uri + kk.localpart\n",
    "\n",
    "# Setup filter\n",
    "meta_filter = dict()\n",
    "meta_filter.update({METADATA_KEY_IDENTIFIER: global_identifier})\n",
    "print(meta_filter)\n",
    "# Get the result\n",
    "#results = ._adapter.get_records_by_filter(metadata_dict=meta_filter)"
   ]
  },
  {
   "cell_type": "markdown",
   "id": "c0118573-885f-493d-911a-c2809e24510e",
   "metadata": {
    "pycharm": {
     "name": "#%% md\n"
    }
   },
   "source": [
    "#### self._adapter.get_records_by_filter (neo4j adapter)"
   ]
  },
  {
   "cell_type": "markdown",
   "id": "dfb75a7c-9107-4428-b42b-4c4b16de4b14",
   "metadata": {
    "jp-MarkdownHeadingCollapsed": true,
    "pycharm": {
     "name": "#%% md\n"
    },
    "tags": []
   },
   "source": [
    "###### some stupid functions"
   ]
  },
  {
   "cell_type": "code",
   "execution_count": 123,
   "id": "ab8af968-5ebf-4544-8e0a-34202072c0fc",
   "metadata": {
    "pycharm": {
     "name": "#%%\n"
    }
   },
   "outputs": [],
   "source": [
    "def encode_string_value_to_primitive(value):\n",
    "    \"\"\"\n",
    "    Convert a value into one of the following types:\n",
    "    - dict\n",
    "    - str\n",
    "    - float\n",
    "    - int\n",
    "    - list\n",
    "    :param value:\n",
    "    :return:\n",
    "    \"\"\"\n",
    "    if isinstance(value, str):\n",
    "        return value\n",
    "    elif type(value) is int:\n",
    "        return value\n",
    "    elif type(value) is float:\n",
    "        return value\n",
    "    elif type(value) is bool:\n",
    "        return value\n",
    "    elif type(value) is list:\n",
    "        return value\n",
    "    elif type(value) is dict:\n",
    "        io = StringIO()\n",
    "        json.dump(value, io)\n",
    "        return io.getvalue()\n",
    "    return str(value)\n"
   ]
  },
  {
   "cell_type": "markdown",
   "id": "e10090d6-8d7b-4317-8de0-ae6762f0a435",
   "metadata": {
    "pycharm": {
     "name": "#%% md\n"
    }
   },
   "source": [
    "#### Back to self._adapter.get_records_by_filter (neo4j adapter)"
   ]
  },
  {
   "cell_type": "code",
   "execution_count": 127,
   "id": "6c4f1c10-5e13-414f-8e2c-b24077c7e0e2",
   "metadata": {
    "pycharm": {
     "name": "#%%\n"
    }
   },
   "outputs": [
    {
     "name": "stdout",
     "output_type": "stream",
     "text": [
      "{'meta:identifier': 'http://biobank_URIuser'}\n",
      "`meta:identifier`: {`meta:identifier`}\n"
     ]
    }
   ],
   "source": [
    "attributes_dict = dict()\n",
    "metadata_dict = meta_filter\n",
    "# (encoded_params, cypher_str) = self._get_cypher_filter_params(attributes_dict, metadata_dict)\n",
    "#{\n",
    "properties_dict = attributes_dict\n",
    "metadata_dict_prefixed = {\"meta:{}\".format(k): v for k, v in metadata_dict.items()}\n",
    "# Merge the 2 dicts into one\n",
    "filter = properties_dict.copy()\n",
    "filter.update(metadata_dict_prefixed)\n",
    "#encoded_params = encode_dict_values_to_primitive(filter)\n",
    "#{\n",
    "encoded_params = dict()\n",
    "for key, value in filter.items():\n",
    "    key_simple = str(key)\n",
    "    encoded_params.update({key_simple: encode_string_value_to_primitive(value)})\n",
    "\n",
    "#}\n",
    "#cypher_str = self._get_attributes_identifiers_cypher_string(filter.keys())\n",
    "#{\n",
    "key_list = filter.keys()\n",
    "db_attributes_identifiers = map(lambda key: \"`{}`: {{`{}`}}\".format(key, key), key_list)\n",
    "cypher_str = \",\".join(db_attributes_identifiers)\n",
    "#}\n",
    "#}\n",
    "print(encoded_params)\n",
    "print(cypher_str)"
   ]
  },
  {
   "cell_type": "code",
   "execution_count": 129,
   "id": "420003b5-20a1-4b93-9840-476f98a622e7",
   "metadata": {
    "pycharm": {
     "name": "#%%\n"
    }
   },
   "outputs": [],
   "source": [
    "session = prov_api._adapter._create_session()"
   ]
  },
  {
   "cell_type": "code",
   "execution_count": 132,
   "id": "e118351a-bf9b-484d-af03-26c1425def24",
   "metadata": {
    "pycharm": {
     "name": "#%%\n"
    }
   },
   "outputs": [],
   "source": [
    "result_set = session.run(cypher_commands.NEO4J_GET_RECORDS_BY_PROPERTY_DICT.format(filter_dict=cypher_str), encoded_params)\n",
    "for result in result_set:\n",
    "    record = result[\"re\"]\n",
    "    print(record)"
   ]
  },
  {
   "cell_type": "markdown",
   "id": "fd6e2e3f-ca63-4f49-bca7-58b1c577b0e2",
   "metadata": {
    "pycharm": {
     "name": "#%% md\n"
    }
   },
   "source": [
    "### END Test"
   ]
  },
  {
   "cell_type": "code",
   "execution_count": 118,
   "id": "9ff54fea-8dfd-447c-bbed-68259972d1ef",
   "metadata": {
    "pycharm": {
     "name": "#%%\n"
    }
   },
   "outputs": [
    {
     "data": {
      "text/plain": [
       "'\\n                            CYPHER 3.5 \\n                            MATCH (d {`meta:identifier`: {`meta:identifier`}} )-[r]-(x {`meta:identifier`: {`meta:identifier`}})\\n                            RETURN DISTINCT r as re\\n                            //Get all nodes that are alone without connections to other nodes\\n                            UNION\\n                            MATCH (a {`meta:identifier`: {`meta:identifier`}})\\n                            RETURN DISTINCT a as re\\n                        '"
      ]
     },
     "execution_count": 118,
     "metadata": {},
     "output_type": "execute_result"
    }
   ],
   "source": [
    "import provdbconnector.db_adapters.neo4j.cypher_commands as cypher_commands\n",
    "cypher_commands.NEO4J_GET_RECORDS_BY_PROPERTY_DICT.format(filter_dict=cypher_str)"
   ]
  },
  {
   "cell_type": "code",
   "execution_count": 107,
   "id": "cf028726-d5dd-475d-acd1-843df3a4f194",
   "metadata": {
    "pycharm": {
     "name": "#%%\n"
    }
   },
   "outputs": [
    {
     "data": {
      "text/plain": [
       "{'identifier': 'http://biobank_URIuser'}"
      ]
     },
     "execution_count": 107,
     "metadata": {},
     "output_type": "execute_result"
    }
   ],
   "source": [
    "meta_filter"
   ]
  },
  {
   "cell_type": "code",
   "execution_count": 68,
   "id": "04719266-dffd-4054-8e7a-5ef4baa54c0d",
   "metadata": {
    "pycharm": {
     "name": "#%%\n"
    }
   },
   "outputs": [
    {
     "ename": "FileNotFoundError",
     "evalue": "[Errno 2] \"dot\" not found in path.",
     "output_type": "error",
     "traceback": [
      "\u001b[0;31m---------------------------------------------------------------------------\u001b[0m",
      "\u001b[0;31mFileNotFoundError\u001b[0m                         Traceback (most recent call last)",
      "File \u001b[0;32m/opt/conda/lib/python3.9/site-packages/pydot.py:1923\u001b[0m, in \u001b[0;36mDot.create\u001b[0;34m(self, prog, format, encoding)\u001b[0m\n\u001b[1;32m   1922\u001b[0m \u001b[38;5;28;01mtry\u001b[39;00m:\n\u001b[0;32m-> 1923\u001b[0m     stdout_data, stderr_data, process \u001b[38;5;241m=\u001b[39m \u001b[43mcall_graphviz\u001b[49m\u001b[43m(\u001b[49m\n\u001b[1;32m   1924\u001b[0m \u001b[43m        \u001b[49m\u001b[43mprogram\u001b[49m\u001b[38;5;241;43m=\u001b[39;49m\u001b[43mprog\u001b[49m\u001b[43m,\u001b[49m\n\u001b[1;32m   1925\u001b[0m \u001b[43m        \u001b[49m\u001b[43marguments\u001b[49m\u001b[38;5;241;43m=\u001b[39;49m\u001b[43marguments\u001b[49m\u001b[43m,\u001b[49m\n\u001b[1;32m   1926\u001b[0m \u001b[43m        \u001b[49m\u001b[43mworking_dir\u001b[49m\u001b[38;5;241;43m=\u001b[39;49m\u001b[43mtmp_dir\u001b[49m\u001b[43m,\u001b[49m\n\u001b[1;32m   1927\u001b[0m \u001b[43m    \u001b[49m\u001b[43m)\u001b[49m\n\u001b[1;32m   1928\u001b[0m \u001b[38;5;28;01mexcept\u001b[39;00m \u001b[38;5;167;01mOSError\u001b[39;00m \u001b[38;5;28;01mas\u001b[39;00m e:\n",
      "File \u001b[0;32m/opt/conda/lib/python3.9/site-packages/pydot.py:132\u001b[0m, in \u001b[0;36mcall_graphviz\u001b[0;34m(program, arguments, working_dir, **kwargs)\u001b[0m\n\u001b[1;32m    130\u001b[0m program_with_args \u001b[38;5;241m=\u001b[39m [program, ] \u001b[38;5;241m+\u001b[39m arguments\n\u001b[0;32m--> 132\u001b[0m process \u001b[38;5;241m=\u001b[39m \u001b[43msubprocess\u001b[49m\u001b[38;5;241;43m.\u001b[39;49m\u001b[43mPopen\u001b[49m\u001b[43m(\u001b[49m\n\u001b[1;32m    133\u001b[0m \u001b[43m    \u001b[49m\u001b[43mprogram_with_args\u001b[49m\u001b[43m,\u001b[49m\n\u001b[1;32m    134\u001b[0m \u001b[43m    \u001b[49m\u001b[43menv\u001b[49m\u001b[38;5;241;43m=\u001b[39;49m\u001b[43menv\u001b[49m\u001b[43m,\u001b[49m\n\u001b[1;32m    135\u001b[0m \u001b[43m    \u001b[49m\u001b[43mcwd\u001b[49m\u001b[38;5;241;43m=\u001b[39;49m\u001b[43mworking_dir\u001b[49m\u001b[43m,\u001b[49m\n\u001b[1;32m    136\u001b[0m \u001b[43m    \u001b[49m\u001b[43mshell\u001b[49m\u001b[38;5;241;43m=\u001b[39;49m\u001b[38;5;28;43;01mFalse\u001b[39;49;00m\u001b[43m,\u001b[49m\n\u001b[1;32m    137\u001b[0m \u001b[43m    \u001b[49m\u001b[43mstderr\u001b[49m\u001b[38;5;241;43m=\u001b[39;49m\u001b[43msubprocess\u001b[49m\u001b[38;5;241;43m.\u001b[39;49m\u001b[43mPIPE\u001b[49m\u001b[43m,\u001b[49m\n\u001b[1;32m    138\u001b[0m \u001b[43m    \u001b[49m\u001b[43mstdout\u001b[49m\u001b[38;5;241;43m=\u001b[39;49m\u001b[43msubprocess\u001b[49m\u001b[38;5;241;43m.\u001b[39;49m\u001b[43mPIPE\u001b[49m\u001b[43m,\u001b[49m\n\u001b[1;32m    139\u001b[0m \u001b[43m    \u001b[49m\u001b[38;5;241;43m*\u001b[39;49m\u001b[38;5;241;43m*\u001b[39;49m\u001b[43mkwargs\u001b[49m\n\u001b[1;32m    140\u001b[0m \u001b[43m\u001b[49m\u001b[43m)\u001b[49m\n\u001b[1;32m    141\u001b[0m stdout_data, stderr_data \u001b[38;5;241m=\u001b[39m process\u001b[38;5;241m.\u001b[39mcommunicate()\n",
      "File \u001b[0;32m/opt/conda/lib/python3.9/subprocess.py:951\u001b[0m, in \u001b[0;36mPopen.__init__\u001b[0;34m(self, args, bufsize, executable, stdin, stdout, stderr, preexec_fn, close_fds, shell, cwd, env, universal_newlines, startupinfo, creationflags, restore_signals, start_new_session, pass_fds, user, group, extra_groups, encoding, errors, text, umask)\u001b[0m\n\u001b[1;32m    948\u001b[0m             \u001b[38;5;28mself\u001b[39m\u001b[38;5;241m.\u001b[39mstderr \u001b[38;5;241m=\u001b[39m io\u001b[38;5;241m.\u001b[39mTextIOWrapper(\u001b[38;5;28mself\u001b[39m\u001b[38;5;241m.\u001b[39mstderr,\n\u001b[1;32m    949\u001b[0m                     encoding\u001b[38;5;241m=\u001b[39mencoding, errors\u001b[38;5;241m=\u001b[39merrors)\n\u001b[0;32m--> 951\u001b[0m     \u001b[38;5;28;43mself\u001b[39;49m\u001b[38;5;241;43m.\u001b[39;49m\u001b[43m_execute_child\u001b[49m\u001b[43m(\u001b[49m\u001b[43margs\u001b[49m\u001b[43m,\u001b[49m\u001b[43m \u001b[49m\u001b[43mexecutable\u001b[49m\u001b[43m,\u001b[49m\u001b[43m \u001b[49m\u001b[43mpreexec_fn\u001b[49m\u001b[43m,\u001b[49m\u001b[43m \u001b[49m\u001b[43mclose_fds\u001b[49m\u001b[43m,\u001b[49m\n\u001b[1;32m    952\u001b[0m \u001b[43m                        \u001b[49m\u001b[43mpass_fds\u001b[49m\u001b[43m,\u001b[49m\u001b[43m \u001b[49m\u001b[43mcwd\u001b[49m\u001b[43m,\u001b[49m\u001b[43m \u001b[49m\u001b[43menv\u001b[49m\u001b[43m,\u001b[49m\n\u001b[1;32m    953\u001b[0m \u001b[43m                        \u001b[49m\u001b[43mstartupinfo\u001b[49m\u001b[43m,\u001b[49m\u001b[43m \u001b[49m\u001b[43mcreationflags\u001b[49m\u001b[43m,\u001b[49m\u001b[43m \u001b[49m\u001b[43mshell\u001b[49m\u001b[43m,\u001b[49m\n\u001b[1;32m    954\u001b[0m \u001b[43m                        \u001b[49m\u001b[43mp2cread\u001b[49m\u001b[43m,\u001b[49m\u001b[43m \u001b[49m\u001b[43mp2cwrite\u001b[49m\u001b[43m,\u001b[49m\n\u001b[1;32m    955\u001b[0m \u001b[43m                        \u001b[49m\u001b[43mc2pread\u001b[49m\u001b[43m,\u001b[49m\u001b[43m \u001b[49m\u001b[43mc2pwrite\u001b[49m\u001b[43m,\u001b[49m\n\u001b[1;32m    956\u001b[0m \u001b[43m                        \u001b[49m\u001b[43merrread\u001b[49m\u001b[43m,\u001b[49m\u001b[43m \u001b[49m\u001b[43merrwrite\u001b[49m\u001b[43m,\u001b[49m\n\u001b[1;32m    957\u001b[0m \u001b[43m                        \u001b[49m\u001b[43mrestore_signals\u001b[49m\u001b[43m,\u001b[49m\n\u001b[1;32m    958\u001b[0m \u001b[43m                        \u001b[49m\u001b[43mgid\u001b[49m\u001b[43m,\u001b[49m\u001b[43m \u001b[49m\u001b[43mgids\u001b[49m\u001b[43m,\u001b[49m\u001b[43m \u001b[49m\u001b[43muid\u001b[49m\u001b[43m,\u001b[49m\u001b[43m \u001b[49m\u001b[43mumask\u001b[49m\u001b[43m,\u001b[49m\n\u001b[1;32m    959\u001b[0m \u001b[43m                        \u001b[49m\u001b[43mstart_new_session\u001b[49m\u001b[43m)\u001b[49m\n\u001b[1;32m    960\u001b[0m \u001b[38;5;28;01mexcept\u001b[39;00m:\n\u001b[1;32m    961\u001b[0m     \u001b[38;5;66;03m# Cleanup if the child failed starting.\u001b[39;00m\n",
      "File \u001b[0;32m/opt/conda/lib/python3.9/subprocess.py:1821\u001b[0m, in \u001b[0;36mPopen._execute_child\u001b[0;34m(self, args, executable, preexec_fn, close_fds, pass_fds, cwd, env, startupinfo, creationflags, shell, p2cread, p2cwrite, c2pread, c2pwrite, errread, errwrite, restore_signals, gid, gids, uid, umask, start_new_session)\u001b[0m\n\u001b[1;32m   1820\u001b[0m         err_msg \u001b[38;5;241m=\u001b[39m os\u001b[38;5;241m.\u001b[39mstrerror(errno_num)\n\u001b[0;32m-> 1821\u001b[0m     \u001b[38;5;28;01mraise\u001b[39;00m child_exception_type(errno_num, err_msg, err_filename)\n\u001b[1;32m   1822\u001b[0m \u001b[38;5;28;01mraise\u001b[39;00m child_exception_type(err_msg)\n",
      "\u001b[0;31mFileNotFoundError\u001b[0m: [Errno 2] No such file or directory: 'dot'",
      "\nDuring handling of the above exception, another exception occurred:\n",
      "\u001b[0;31mFileNotFoundError\u001b[0m                         Traceback (most recent call last)",
      "Input \u001b[0;32mIn [68]\u001b[0m, in \u001b[0;36m<cell line: 5>\u001b[0;34m()\u001b[0m\n\u001b[1;32m      2\u001b[0m \u001b[38;5;66;03m#os.environ[\"PATH\"] += os.pathsep + 'D:/Program Files (x86)/Graphviz2.38/bin/'\u001b[39;00m\n\u001b[1;32m      4\u001b[0m dot \u001b[38;5;241m=\u001b[39m prov_to_dot(docu, direction \u001b[38;5;241m=\u001b[39m\u001b[38;5;124m'\u001b[39m\u001b[38;5;124mRL\u001b[39m\u001b[38;5;124m'\u001b[39m)\n\u001b[0;32m----> 5\u001b[0m \u001b[43mdot\u001b[49m\u001b[38;5;241;43m.\u001b[39;49m\u001b[43mwrite_png\u001b[49m\u001b[43m(\u001b[49m\u001b[38;5;124;43m'\u001b[39;49m\u001b[38;5;124;43marticle-prov.png\u001b[39;49m\u001b[38;5;124;43m'\u001b[39;49m\u001b[43m)\u001b[49m\n",
      "File \u001b[0;32m/opt/conda/lib/python3.9/site-packages/pydot.py:1743\u001b[0m, in \u001b[0;36mDot.__init__.<locals>.new_method\u001b[0;34m(path, f, prog, encoding)\u001b[0m\n\u001b[1;32m   1739\u001b[0m \u001b[38;5;28;01mdef\u001b[39;00m \u001b[38;5;21mnew_method\u001b[39m(\n\u001b[1;32m   1740\u001b[0m         path, f\u001b[38;5;241m=\u001b[39mfrmt, prog\u001b[38;5;241m=\u001b[39m\u001b[38;5;28mself\u001b[39m\u001b[38;5;241m.\u001b[39mprog,\n\u001b[1;32m   1741\u001b[0m         encoding\u001b[38;5;241m=\u001b[39m\u001b[38;5;28;01mNone\u001b[39;00m):\n\u001b[1;32m   1742\u001b[0m     \u001b[38;5;124;03m\"\"\"Refer to docstring of method `write.`\"\"\"\u001b[39;00m\n\u001b[0;32m-> 1743\u001b[0m     \u001b[38;5;28;43mself\u001b[39;49m\u001b[38;5;241;43m.\u001b[39;49m\u001b[43mwrite\u001b[49m\u001b[43m(\u001b[49m\n\u001b[1;32m   1744\u001b[0m \u001b[43m        \u001b[49m\u001b[43mpath\u001b[49m\u001b[43m,\u001b[49m\u001b[43m \u001b[49m\u001b[38;5;28;43mformat\u001b[39;49m\u001b[38;5;241;43m=\u001b[39;49m\u001b[43mf\u001b[49m\u001b[43m,\u001b[49m\u001b[43m \u001b[49m\u001b[43mprog\u001b[49m\u001b[38;5;241;43m=\u001b[39;49m\u001b[43mprog\u001b[49m\u001b[43m,\u001b[49m\n\u001b[1;32m   1745\u001b[0m \u001b[43m        \u001b[49m\u001b[43mencoding\u001b[49m\u001b[38;5;241;43m=\u001b[39;49m\u001b[43mencoding\u001b[49m\u001b[43m)\u001b[49m\n",
      "File \u001b[0;32m/opt/conda/lib/python3.9/site-packages/pydot.py:1828\u001b[0m, in \u001b[0;36mDot.write\u001b[0;34m(self, path, prog, format, encoding)\u001b[0m\n\u001b[1;32m   1826\u001b[0m         f\u001b[38;5;241m.\u001b[39mwrite(s)\n\u001b[1;32m   1827\u001b[0m \u001b[38;5;28;01melse\u001b[39;00m:\n\u001b[0;32m-> 1828\u001b[0m     s \u001b[38;5;241m=\u001b[39m \u001b[38;5;28;43mself\u001b[39;49m\u001b[38;5;241;43m.\u001b[39;49m\u001b[43mcreate\u001b[49m\u001b[43m(\u001b[49m\u001b[43mprog\u001b[49m\u001b[43m,\u001b[49m\u001b[43m \u001b[49m\u001b[38;5;28;43mformat\u001b[39;49m\u001b[43m,\u001b[49m\u001b[43m \u001b[49m\u001b[43mencoding\u001b[49m\u001b[38;5;241;43m=\u001b[39;49m\u001b[43mencoding\u001b[49m\u001b[43m)\u001b[49m\n\u001b[1;32m   1829\u001b[0m     \u001b[38;5;28;01mwith\u001b[39;00m io\u001b[38;5;241m.\u001b[39mopen(path, mode\u001b[38;5;241m=\u001b[39m\u001b[38;5;124m'\u001b[39m\u001b[38;5;124mwb\u001b[39m\u001b[38;5;124m'\u001b[39m) \u001b[38;5;28;01mas\u001b[39;00m f:\n\u001b[1;32m   1830\u001b[0m         f\u001b[38;5;241m.\u001b[39mwrite(s)\n",
      "File \u001b[0;32m/opt/conda/lib/python3.9/site-packages/pydot.py:1933\u001b[0m, in \u001b[0;36mDot.create\u001b[0;34m(self, prog, format, encoding)\u001b[0m\n\u001b[1;32m   1930\u001b[0m     args \u001b[38;5;241m=\u001b[39m \u001b[38;5;28mlist\u001b[39m(e\u001b[38;5;241m.\u001b[39margs)\n\u001b[1;32m   1931\u001b[0m     args[\u001b[38;5;241m1\u001b[39m] \u001b[38;5;241m=\u001b[39m \u001b[38;5;124m'\u001b[39m\u001b[38;5;124m\"\u001b[39m\u001b[38;5;132;01m{prog}\u001b[39;00m\u001b[38;5;124m\"\u001b[39m\u001b[38;5;124m not found in path.\u001b[39m\u001b[38;5;124m'\u001b[39m\u001b[38;5;241m.\u001b[39mformat(\n\u001b[1;32m   1932\u001b[0m         prog\u001b[38;5;241m=\u001b[39mprog)\n\u001b[0;32m-> 1933\u001b[0m     \u001b[38;5;28;01mraise\u001b[39;00m \u001b[38;5;167;01mOSError\u001b[39;00m(\u001b[38;5;241m*\u001b[39margs)\n\u001b[1;32m   1934\u001b[0m \u001b[38;5;28;01melse\u001b[39;00m:\n\u001b[1;32m   1935\u001b[0m     \u001b[38;5;28;01mraise\u001b[39;00m\n",
      "\u001b[0;31mFileNotFoundError\u001b[0m: [Errno 2] \"dot\" not found in path."
     ]
    }
   ],
   "source": [
    "import os\n",
    "os.\n",
    "#os.environ[\"PATH\"] += os.pathsep + 'D:/Program Files (x86)/Graphviz2.38/bin/'\n",
    "\n",
    "dot = prov_to_dot(docu, direction ='RL')\n",
    "dot.write_png('article-prov.png')\n",
    "#Image('article-prov.png')\n",
    "#Image(dot)\n"
   ]
  },
  {
   "cell_type": "code",
   "execution_count": 86,
   "id": "6f09d474-142f-4863-b71b-9bc29e2a0272",
   "metadata": {
    "pycharm": {
     "name": "#%%\n"
    }
   },
   "outputs": [
    {
     "data": {
      "text/plain": [
       "'http://biobank_URI'"
      ]
     },
     "execution_count": 86,
     "metadata": {},
     "output_type": "execute_result"
    }
   ],
   "source": [
    "docu.get_registered_namespaces()\n",
    "docu._namespaces['ns_biobabank'].uri"
   ]
  },
  {
   "cell_type": "code",
   "execution_count": 100,
   "id": "e4dad70d-9333-44cb-aa3f-1b83cc71aa3f",
   "metadata": {
    "pycharm": {
     "name": "#%%\n"
    }
   },
   "outputs": [
    {
     "data": {
      "text/plain": [
       "{'prov': <Namespace: prov {http://www.w3.org/ns/prov#}>,\n",
       " 'xsd': <Namespace: xsd {http://www.w3.org/2001/XMLSchema#}>,\n",
       " 'xsi': <Namespace: xsi {http://www.w3.org/2001/XMLSchema-instance}>,\n",
       " '': <Namespace:  {http://biobank_URI/default}>,\n",
       " 'ns_biobabank': <Namespace: ns_biobabank {http://biobank_URI}>}"
      ]
     },
     "execution_count": 100,
     "metadata": {},
     "output_type": "execute_result"
    }
   ],
   "source": [
    "docu._namespaces"
   ]
  },
  {
   "cell_type": "code",
   "execution_count": null,
   "id": "51cc43cc-6ee4-4924-be8d-1b023b4e6469",
   "metadata": {},
   "outputs": [],
   "source": []
  }
 ],
 "metadata": {
  "kernelspec": {
   "display_name": "Python 3 (ipykernel)",
   "language": "python",
   "name": "python3"
  },
  "language_info": {
   "codemirror_mode": {
    "name": "ipython",
    "version": 3
   },
   "file_extension": ".py",
   "mimetype": "text/x-python",
   "name": "python",
   "nbconvert_exporter": "python",
   "pygments_lexer": "ipython3",
   "version": "3.9.10"
  }
 },
 "nbformat": 4,
 "nbformat_minor": 5
}
