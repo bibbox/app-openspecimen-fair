{
 "cells": [
  {
   "cell_type": "code",
   "execution_count": 1,
   "id": "2839e82e-4a54-428b-9281-4702f04f10ff",
   "metadata": {},
   "outputs": [],
   "source": [
    "import requests\n",
    "import logging\n",
    "\n",
    "class FDPClient:\n",
    "    def __init__(self,baseurl,email,password):\n",
    "        self.baseurl=baseurl\n",
    "        self.token=self.gettoken(email,password)   \n",
    "        \n",
    "    def gettoken(self,email,password):\n",
    "        response = requests.post(f\"{self.baseurl}/tokens\",data={\"email\":email,\"password\":password})\n",
    "        if response.status_code == 200:\n",
    "            return response['token']\n",
    "        \n",
    "        print(response)\n",
    "        assert(\"Problem with the login: \"+str(response))\n",
    "        #return response['token']"
   ]
  }
 ],
 "metadata": {
  "kernelspec": {
   "display_name": "Python 3 (ipykernel)",
   "language": "python",
   "name": "python3"
  },
  "language_info": {
   "codemirror_mode": {
    "name": "ipython",
    "version": 3
   },
   "file_extension": ".py",
   "mimetype": "text/x-python",
   "name": "python",
   "nbconvert_exporter": "python",
   "pygments_lexer": "ipython3",
   "version": "3.9.10"
  }
 },
 "nbformat": 4,
 "nbformat_minor": 5
}
