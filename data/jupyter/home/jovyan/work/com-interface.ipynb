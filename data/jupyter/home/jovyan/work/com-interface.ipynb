{
 "cells": [
  {
   "cell_type": "markdown",
   "id": "5320113e-f8fc-497a-9c2d-cb7a304c0d3d",
   "metadata": {},
   "source": [
    "# API Libraraies \n",
    "## OpenSpecemin - OpenSpecimenAPIconnector\n",
    "[Code](https://github.com/bibbox/OpenSpecimenAPIconnector.py)\n",
    "\n",
    "[Docu](https://openspecimenapiconnectorpy.readthedocs.io/en/latest/index.html)\n",
    "\n",
    "## FDP\n",
    "[fairdatapoint-client](https://github.com/fair-data/fairdatapoint-client)\n",
    "\n",
    "[Docu](https://fairdatapoint.readthedocs.io/en/latest/deployment/local-deployment.html)"
   ]
  },
  {
   "cell_type": "code",
   "execution_count": 3,
   "id": "908f1480-05a9-438e-84c0-e1b718bd10b2",
   "metadata": {},
   "outputs": [
    {
     "name": "stdout",
     "output_type": "stream",
     "text": [
      "Collecting OpenSpecimenAPIconnector\n",
      "  Downloading OpenSpecimenAPIconnector-0.9.2-py3-none-any.whl (84 kB)\n",
      "\u001b[2K     \u001b[90m━━━━━━━━━━━━━━━━━━━━━━━━━━━━━━━━━━━━━━━━\u001b[0m \u001b[32m84.1/84.1 KB\u001b[0m \u001b[31m10.5 MB/s\u001b[0m eta \u001b[36m0:00:00\u001b[0m\n",
      "\u001b[?25hRequirement already satisfied: numpy in /opt/conda/lib/python3.9/site-packages (from OpenSpecimenAPIconnector) (1.21.5)\n",
      "Requirement already satisfied: requests in /opt/conda/lib/python3.9/site-packages (from OpenSpecimenAPIconnector) (2.27.1)\n",
      "Collecting names\n",
      "  Downloading names-0.3.0.tar.gz (789 kB)\n",
      "\u001b[2K     \u001b[90m━━━━━━━━━━━━━━━━━━━━━━━━━━━━━━━━━━━━━━\u001b[0m \u001b[32m789.1/789.1 KB\u001b[0m \u001b[31m46.4 MB/s\u001b[0m eta \u001b[36m0:00:00\u001b[0m\n",
      "\u001b[?25h  Preparing metadata (setup.py) ... \u001b[?25ldone\n",
      "\u001b[?25hRequirement already satisfied: pandas in /opt/conda/lib/python3.9/site-packages (from OpenSpecimenAPIconnector) (1.4.2)\n",
      "Collecting xlsxwriter\n",
      "  Downloading XlsxWriter-3.0.3-py3-none-any.whl (149 kB)\n",
      "\u001b[2K     \u001b[90m━━━━━━━━━━━━━━━━━━━━━━━━━━━━━━━━━━━━━━\u001b[0m \u001b[32m150.0/150.0 KB\u001b[0m \u001b[31m61.6 MB/s\u001b[0m eta \u001b[36m0:00:00\u001b[0m\n",
      "\u001b[?25hCollecting openpyxl\n",
      "  Downloading openpyxl-3.0.9-py2.py3-none-any.whl (242 kB)\n",
      "\u001b[2K     \u001b[90m━━━━━━━━━━━━━━━━━━━━━━━━━━━━━━━━━━━━━━\u001b[0m \u001b[32m242.2/242.2 KB\u001b[0m \u001b[31m86.9 MB/s\u001b[0m eta \u001b[36m0:00:00\u001b[0m\n",
      "\u001b[?25hCollecting faker\n",
      "  Downloading Faker-13.4.0-py3-none-any.whl (1.5 MB)\n",
      "\u001b[2K     \u001b[90m━━━━━━━━━━━━━━━━━━━━━━━━━━━━━━━━━━━━━━━━\u001b[0m \u001b[32m1.5/1.5 MB\u001b[0m \u001b[31m109.8 MB/s\u001b[0m eta \u001b[36m0:00:00\u001b[0m\n",
      "\u001b[?25hRequirement already satisfied: python-dateutil>=2.4 in /opt/conda/lib/python3.9/site-packages (from faker->OpenSpecimenAPIconnector) (2.8.2)\n",
      "Collecting et-xmlfile\n",
      "  Downloading et_xmlfile-1.1.0-py3-none-any.whl (4.7 kB)\n",
      "Requirement already satisfied: pytz>=2020.1 in /opt/conda/lib/python3.9/site-packages (from pandas->OpenSpecimenAPIconnector) (2022.1)\n",
      "Requirement already satisfied: certifi>=2017.4.17 in /opt/conda/lib/python3.9/site-packages (from requests->OpenSpecimenAPIconnector) (2021.10.8)\n",
      "Requirement already satisfied: idna<4,>=2.5 in /opt/conda/lib/python3.9/site-packages (from requests->OpenSpecimenAPIconnector) (3.3)\n",
      "Requirement already satisfied: charset-normalizer~=2.0.0 in /opt/conda/lib/python3.9/site-packages (from requests->OpenSpecimenAPIconnector) (2.0.12)\n",
      "Requirement already satisfied: urllib3<1.27,>=1.21.1 in /opt/conda/lib/python3.9/site-packages (from requests->OpenSpecimenAPIconnector) (1.26.9)\n",
      "Requirement already satisfied: six>=1.5 in /opt/conda/lib/python3.9/site-packages (from python-dateutil>=2.4->faker->OpenSpecimenAPIconnector) (1.16.0)\n",
      "Building wheels for collected packages: names\n",
      "  Building wheel for names (setup.py) ... \u001b[?25ldone\n",
      "\u001b[?25h  Created wheel for names: filename=names-0.3.0-py3-none-any.whl size=803701 sha256=7cbbc5ff4b78d0a449d1cdc9f06f683d35e7a10b1dc712eba07f681290f16076\n",
      "  Stored in directory: /home/jovyan/.cache/pip/wheels/f1/bc/04/55ab9499ea02359ece8b02b4169ebb30aa52d82b84c13fc506\n",
      "Successfully built names\n",
      "Installing collected packages: names, xlsxwriter, et-xmlfile, openpyxl, faker, OpenSpecimenAPIconnector\n",
      "Successfully installed OpenSpecimenAPIconnector-0.9.2 et-xmlfile-1.1.0 faker-13.4.0 names-0.3.0 openpyxl-3.0.9 xlsxwriter-3.0.3\n",
      "Note: you may need to restart the kernel to use updated packages.\n"
     ]
    }
   ],
   "source": [
    "pip install OpenSpecimenAPIconnector"
   ]
  },
  {
   "cell_type": "code",
   "execution_count": 1,
   "id": "1a609e96-b12f-4ced-83d0-333c7325b12d",
   "metadata": {
    "tags": []
   },
   "outputs": [
    {
     "name": "stdout",
     "output_type": "stream",
     "text": [
      "Collecting fairdatapoint-client\n",
      "  Downloading fairdatapoint_client-0.1.0-py3-none-any.whl (18 kB)\n",
      "Collecting rdflib-jsonld\n",
      "  Downloading rdflib_jsonld-0.6.2-py2.py3-none-any.whl (4.0 kB)\n",
      "Collecting rdflib\n",
      "  Downloading rdflib-6.1.1-py3-none-any.whl (482 kB)\n",
      "\u001b[2K     \u001b[90m━━━━━━━━━━━━━━━━━━━━━━━━━━━━━━━━━━━━━━\u001b[0m \u001b[32m482.8/482.8 KB\u001b[0m \u001b[31m24.2 MB/s\u001b[0m eta \u001b[36m0:00:00\u001b[0m\n",
      "\u001b[?25hRequirement already satisfied: requests in /opt/conda/lib/python3.9/site-packages (from fairdatapoint-client) (2.27.1)\n",
      "Collecting isodate\n",
      "  Downloading isodate-0.6.1-py2.py3-none-any.whl (41 kB)\n",
      "\u001b[2K     \u001b[90m━━━━━━━━━━━━━━━━━━━━━━━━━━━━━━━━━━━━━━━━\u001b[0m \u001b[32m41.7/41.7 KB\u001b[0m \u001b[31m18.1 MB/s\u001b[0m eta \u001b[36m0:00:00\u001b[0m\n",
      "\u001b[?25hRequirement already satisfied: pyparsing in /opt/conda/lib/python3.9/site-packages (from rdflib->fairdatapoint-client) (3.0.7)\n",
      "Requirement already satisfied: setuptools in /opt/conda/lib/python3.9/site-packages (from rdflib->fairdatapoint-client) (61.3.0)\n",
      "Requirement already satisfied: charset-normalizer~=2.0.0 in /opt/conda/lib/python3.9/site-packages (from requests->fairdatapoint-client) (2.0.12)\n",
      "Requirement already satisfied: urllib3<1.27,>=1.21.1 in /opt/conda/lib/python3.9/site-packages (from requests->fairdatapoint-client) (1.26.9)\n",
      "Requirement already satisfied: idna<4,>=2.5 in /opt/conda/lib/python3.9/site-packages (from requests->fairdatapoint-client) (3.3)\n",
      "Requirement already satisfied: certifi>=2017.4.17 in /opt/conda/lib/python3.9/site-packages (from requests->fairdatapoint-client) (2021.10.8)\n",
      "Requirement already satisfied: six in /opt/conda/lib/python3.9/site-packages (from isodate->rdflib->fairdatapoint-client) (1.16.0)\n",
      "Installing collected packages: isodate, rdflib, rdflib-jsonld, fairdatapoint-client\n",
      "Successfully installed fairdatapoint-client-0.1.0 isodate-0.6.1 rdflib-6.1.1 rdflib-jsonld-0.6.2\n",
      "Note: you may need to restart the kernel to use updated packages.\n"
     ]
    }
   ],
   "source": [
    "pip install fairdatapoint-client"
   ]
  },
  {
   "cell_type": "code",
   "execution_count": 4,
   "id": "7d1d28df-8b03-4bc1-a950-4b0fa36e5c87",
   "metadata": {},
   "outputs": [],
   "source": [
    "import OpenSpecimenAPIconnector as OSconn\n",
    "import OpenSpecimenAPIconnector.os_core as os_core\n",
    "import OpenSpecimenAPIconnector.os_util as os_util\n",
    "\n",
    "#https://github.com/fair-data/fairdatapoint-client\n",
    "from fdpclient.client import Client\n",
    "from fdpclient import operations\n"
   ]
  },
  {
   "cell_type": "markdown",
   "id": "e0e6856c-c71f-4554-b132-3077eab7b01f",
   "metadata": {},
   "source": [
    "# Test OS connection"
   ]
  },
  {
   "cell_type": "code",
   "execution_count": 5,
   "id": "61d85513-49f3-4fa1-83f8-680030b75dd6",
   "metadata": {},
   "outputs": [],
   "source": [
    "# Set Login Example\n",
    "baseurl = 'http://openspecimen-fdp-web:8080/openspecimen/rest/ng'\n",
    "loginname = \"admin\"\n",
    "password = \"Login@123\"\n",
    "auth = (loginname, password)"
   ]
  },
  {
   "cell_type": "code",
   "execution_count": 6,
   "id": "d5f73e81-6265-4eda-8b94-92e12c142514",
   "metadata": {},
   "outputs": [],
   "source": [
    "OSconn.config_manager.set_login(url = baseurl, auth = auth)"
   ]
  },
  {
   "cell_type": "markdown",
   "id": "177af26c-5d4b-484c-9f98-5598785720d8",
   "metadata": {},
   "source": [
    "# Test FDP connection"
   ]
  },
  {
   "cell_type": "code",
   "execution_count": 10,
   "id": "1a7b3127-381b-4504-b563-683533435e3b",
   "metadata": {},
   "outputs": [],
   "source": [
    "# create a client with base URL\n",
    "client = Client('http://openspecimen-fdp-fdp:80/') #'http://openspecimen-fdp-fdp:8888/'"
   ]
  },
  {
   "cell_type": "code",
   "execution_count": 12,
   "id": "37cfa073-4fd7-4cf9-bc13-88183cfc5ff2",
   "metadata": {
    "tags": []
   },
   "outputs": [
    {
     "name": "stdout",
     "output_type": "stream",
     "text": [
      "Status: 400, content-type: text/turtle\n",
      "Status: 200, content-type: text/turtle\n"
     ]
    }
   ],
   "source": [
    "import requests\n",
    "fmt = 'text/turtle'\n",
    "r=requests.get('http://openspecimen-fdp-fdp:80' + '/fdp', params={'Accept':fmt})\n",
    "print('Status: '+str(r.status_code)+', content-type: '+r.headers['content-type'])\n",
    "r=requests.get('http://openspecimen-fdp-fdp:80' + '/', params={'Accept':fmt})\n",
    "print('Status: '+str(r.status_code)+', content-type: '+r.headers['content-type'])"
   ]
  },
  {
   "cell_type": "code",
   "execution_count": 13,
   "id": "8f978844-d207-4824-86ef-592ec03987a3",
   "metadata": {
    "tags": []
   },
   "outputs": [
    {
     "name": "stdout",
     "output_type": "stream",
     "text": [
      "HTTP error: 403  for http://openspecimen-fdp-fdp:80/catalog \n",
      "Response message: You have to be login at first\n"
     ]
    },
    {
     "ename": "RuntimeError",
     "evalue": "No active exception to reraise",
     "output_type": "error",
     "traceback": [
      "\u001b[0;31m---------------------------------------------------------------------------\u001b[0m",
      "\u001b[0;31mRuntimeError\u001b[0m                              Traceback (most recent call last)",
      "Input \u001b[0;32mIn [13]\u001b[0m, in \u001b[0;36m<cell line: 4>\u001b[0;34m()\u001b[0m\n\u001b[1;32m      2\u001b[0m \u001b[38;5;28;01mwith\u001b[39;00m \u001b[38;5;28mopen\u001b[39m(\u001b[38;5;124m'\u001b[39m\u001b[38;5;124mtest-data/catalog01.ttl\u001b[39m\u001b[38;5;124m'\u001b[39m) \u001b[38;5;28;01mas\u001b[39;00m f:\n\u001b[1;32m      3\u001b[0m     data \u001b[38;5;241m=\u001b[39m f\u001b[38;5;241m.\u001b[39mread()\n\u001b[0;32m----> 4\u001b[0m \u001b[43mclient\u001b[49m\u001b[38;5;241;43m.\u001b[39;49m\u001b[43mcreate_catalog\u001b[49m\u001b[43m(\u001b[49m\u001b[43mdata\u001b[49m\u001b[43m)\u001b[49m\n\u001b[1;32m      6\u001b[0m \u001b[38;5;66;03m# let's assume the catalogID was assigned as 'catalog01'\u001b[39;00m\n\u001b[1;32m      7\u001b[0m \u001b[38;5;66;03m# read metadata, return a RDF graph\u001b[39;00m\n\u001b[1;32m      8\u001b[0m r \u001b[38;5;241m=\u001b[39m client\u001b[38;5;241m.\u001b[39mread_catalog(\u001b[38;5;124m'\u001b[39m\u001b[38;5;124mcatalog01\u001b[39m\u001b[38;5;124m'\u001b[39m)\n",
      "File \u001b[0;32m/opt/conda/lib/python3.9/site-packages/fdpclient/client.py:67\u001b[0m, in \u001b[0;36mClient.create_catalog\u001b[0;34m(self, data, format, **kwargs)\u001b[0m\n\u001b[1;32m     55\u001b[0m \u001b[38;5;28;01mdef\u001b[39;00m \u001b[38;5;21mcreate_catalog\u001b[39m(\u001b[38;5;28mself\u001b[39m, data, \u001b[38;5;28mformat\u001b[39m\u001b[38;5;241m=\u001b[39m\u001b[38;5;124m'\u001b[39m\u001b[38;5;124mturtle\u001b[39m\u001b[38;5;124m'\u001b[39m, \u001b[38;5;241m*\u001b[39m\u001b[38;5;241m*\u001b[39mkwargs):\n\u001b[1;32m     56\u001b[0m     \u001b[38;5;124;03m\"\"\"Create a new catalog metadata.\u001b[39;00m\n\u001b[1;32m     57\u001b[0m \n\u001b[1;32m     58\u001b[0m \u001b[38;5;124;03m    Args:\u001b[39;00m\n\u001b[0;32m   (...)\u001b[0m\n\u001b[1;32m     65\u001b[0m \u001b[38;5;124;03m        **kwargs: Optional arguments that :func:`requests.request` takes.\u001b[39;00m\n\u001b[1;32m     66\u001b[0m \u001b[38;5;124;03m    \"\"\"\u001b[39;00m\n\u001b[0;32m---> 67\u001b[0m     \u001b[38;5;28;43mself\u001b[39;49m\u001b[38;5;241;43m.\u001b[39;49m\u001b[43m_request\u001b[49m\u001b[43m(\u001b[49m\u001b[38;5;124;43m'\u001b[39;49m\u001b[38;5;124;43mcreate\u001b[39;49m\u001b[38;5;124;43m'\u001b[39;49m\u001b[43m,\u001b[49m\u001b[43m \u001b[49m\u001b[38;5;124;43m'\u001b[39;49m\u001b[38;5;124;43mcatalog\u001b[39;49m\u001b[38;5;124;43m'\u001b[39;49m\u001b[43m,\u001b[49m\u001b[43m \u001b[49m\u001b[43mdata\u001b[49m\u001b[38;5;241;43m=\u001b[39;49m\u001b[43mdata\u001b[49m\u001b[43m,\u001b[49m\u001b[43m \u001b[49m\u001b[38;5;28;43mformat\u001b[39;49m\u001b[38;5;241;43m=\u001b[39;49m\u001b[38;5;28;43mformat\u001b[39;49m\u001b[43m,\u001b[49m\u001b[43m \u001b[49m\u001b[38;5;241;43m*\u001b[39;49m\u001b[38;5;241;43m*\u001b[39;49m\u001b[43mkwargs\u001b[49m\u001b[43m)\u001b[49m\n",
      "File \u001b[0;32m/opt/conda/lib/python3.9/site-packages/fdpclient/client.py:320\u001b[0m, in \u001b[0;36mClient._request\u001b[0;34m(self, operation, type, id, data, format, **kwargs)\u001b[0m\n\u001b[1;32m    318\u001b[0m     r \u001b[38;5;241m=\u001b[39m request(url\u001b[38;5;241m=\u001b[39murl, data\u001b[38;5;241m=\u001b[39mdata, \u001b[38;5;241m*\u001b[39m\u001b[38;5;241m*\u001b[39mkwargs)\n\u001b[1;32m    319\u001b[0m \u001b[38;5;28;01melse\u001b[39;00m:\n\u001b[0;32m--> 320\u001b[0m     r \u001b[38;5;241m=\u001b[39m \u001b[43mrequest\u001b[49m\u001b[43m(\u001b[49m\u001b[43murl\u001b[49m\u001b[38;5;241;43m=\u001b[39;49m\u001b[43murl\u001b[49m\u001b[43m,\u001b[49m\u001b[43m \u001b[49m\u001b[43mdata\u001b[49m\u001b[38;5;241;43m=\u001b[39;49m\u001b[43mdata\u001b[49m\u001b[43m,\u001b[49m\u001b[43m \u001b[49m\u001b[38;5;28;43mformat\u001b[39;49m\u001b[38;5;241;43m=\u001b[39;49m\u001b[38;5;28;43mformat\u001b[39;49m\u001b[43m,\u001b[49m\u001b[43m \u001b[49m\u001b[38;5;241;43m*\u001b[39;49m\u001b[38;5;241;43m*\u001b[39;49m\u001b[43mkwargs\u001b[49m\u001b[43m)\u001b[49m\n\u001b[1;32m    321\u001b[0m \u001b[38;5;28;01mreturn\u001b[39;00m r\n",
      "File \u001b[0;32m/opt/conda/lib/python3.9/site-packages/fdpclient/operations.py:37\u001b[0m, in \u001b[0;36mcreate\u001b[0;34m(url, data, format, **kwargs)\u001b[0m\n\u001b[1;32m     34\u001b[0m \u001b[38;5;28;01mif\u001b[39;00m r\u001b[38;5;241m.\u001b[39mstatus_code \u001b[38;5;241m>\u001b[39m\u001b[38;5;241m=\u001b[39m \u001b[38;5;241m300\u001b[39m:\n\u001b[1;32m     35\u001b[0m     \u001b[38;5;28mprint\u001b[39m(\u001b[38;5;124mf\u001b[39m\u001b[38;5;124m'\u001b[39m\u001b[38;5;124mHTTP error: \u001b[39m\u001b[38;5;132;01m{\u001b[39;00mr\u001b[38;5;241m.\u001b[39mstatus_code\u001b[38;5;132;01m}\u001b[39;00m\u001b[38;5;124m \u001b[39m\u001b[38;5;132;01m{\u001b[39;00mr\u001b[38;5;241m.\u001b[39mreason\u001b[38;5;132;01m}\u001b[39;00m\u001b[38;5;124m for \u001b[39m\u001b[38;5;132;01m{\u001b[39;00murl\u001b[38;5;132;01m}\u001b[39;00m\u001b[38;5;124m'\u001b[39m,\n\u001b[1;32m     36\u001b[0m           \u001b[38;5;124mf\u001b[39m\u001b[38;5;124m'\u001b[39m\u001b[38;5;130;01m\\n\u001b[39;00m\u001b[38;5;124mResponse message: \u001b[39m\u001b[38;5;132;01m{\u001b[39;00mr\u001b[38;5;241m.\u001b[39mtext\u001b[38;5;132;01m}\u001b[39;00m\u001b[38;5;124m'\u001b[39m)\n\u001b[0;32m---> 37\u001b[0m     \u001b[38;5;28;01mraise\u001b[39;00m\n",
      "\u001b[0;31mRuntimeError\u001b[0m: No active exception to reraise"
     ]
    }
   ],
   "source": [
    "# create metadata\n",
    "with open('test-data/catalog01.ttl') as f:\n",
    "    data = f.read()\n",
    "client.create_catalog(data)\n",
    "\n",
    "# let's assume the catalogID was assigned as 'catalog01'\n",
    "# read metadata, return a RDF graph\n",
    "r = client.read_catalog('catalog01')\n",
    "print(r.serialize(format=\"turtle\").decode(\"utf-8\"))\n",
    "\n",
    "# update metadata\n",
    "with open('catalog01_update.ttl') as f:\n",
    "    data_update = f.read()\n",
    "client.update_catalog('catalog01', data_update)\n",
    "\n",
    "# delete metadata\n",
    "ćlient.delete_catalog('catalog01')"
   ]
  },
  {
   "cell_type": "code",
   "execution_count": 22,
   "id": "5da3d694-8381-4ec1-9ee9-02d6cf5ba0d0",
   "metadata": {
    "tags": []
   },
   "outputs": [],
   "source": [
    "import logging\n",
    "import requests\n",
    "from fdpclient import operations\n",
    "\n",
    "logger = logging.getLogger(__name__)\n",
    "\n",
    "\n",
    "class DummyTest:\n",
    "    def __init__(self):\n",
    "        \"\"\"The Client object to connect to a FAIR Data Point server.\n",
    "        FAIR Data Point server contains 4 types of metadata as described in the\n",
    "        `specification`_:\n",
    "        ============  ======================\n",
    "        type          path\n",
    "        ============  ======================\n",
    "        fdp           <host>/fdp or <host>\n",
    "        catalog       <host>/catalog\n",
    "        dataset       <host>/dataset\n",
    "        distribution  <host>/distribution\n",
    "        ============  ======================\n",
    "        A server may use the host URL to store the 'fdp' metadata, and then\n",
    "        the 'fdp' path is the same as the host.\n",
    "        .. _`specification`: https://github.com/FAIRDataTeam/FAIRDataPoint-Spec/blob/master/spec.md\n",
    "        Args:\n",
    "            host(str): the host URL\n",
    "        Examples:\n",
    "            >>> client = Client('http://fdp.fairdatapoint.nl`)\n",
    "            >>> fdp_metadata = client.read_fdp()\n",
    "            >>> catalog_metadata = client.read_catalog('catalog01')\n",
    "            >>> print(fdp_metadata, catalog_metadata)\n",
    "        \"\"\"\n",
    "        self.host = 'http://openspecimen-fdp-fdp:8888'\n",
    "        self.fdp_id = 'fdp'\n",
    "\n",
    "    # Create metadata\n",
    "    def create_fdp(self, data, format='turtle', **kwargs):\n",
    "        \"\"\"Create fdp metadata.\n",
    "        Args:\n",
    "            data(str, bytes, file-like object or :class:`rdflib.Graph`):\n",
    "                the content of metadata to send in the request body.\n",
    "            format (str, optional): the format of the metadata.\n",
    "                This argument overwrites the request header ``content-type``.\n",
    "                Available options are 'turtle', 'n3', 'nt', 'xml' and 'json-ld'.\n",
    "                Defaults to 'turtle'.\n",
    "            **kwargs: Optional arguments that :func:`requests.request` takes.\n",
    "        \"\"\"\n",
    "        self._request('create', self.fdp_id, data=data, format=format, **kwargs)\n",
    "\n",
    "    def create_catalog(self, data, format='turtle', **kwargs):\n",
    "        \"\"\"Create a new catalog metadata.\n",
    "        Args:\n",
    "            data(str, bytes, file-like object or :class:`rdflib.Graph`):\n",
    "                the content of metadata to send in the request body.\n",
    "            format (str, optional): the format of the metadata.\n",
    "                This argument overwrites the request header ``content-type``.\n",
    "                Available options are 'turtle', 'n3', 'nt', 'xml' and 'json-ld'.\n",
    "                Defaults to 'turtle'.\n",
    "            **kwargs: Optional arguments that :func:`requests.request` takes.\n",
    "        \"\"\"\n",
    "        self._request('create', 'catalog', data=data, format=format, **kwargs)\n",
    "\n",
    "    def create_dataset(self, data, format='turtle', **kwargs):\n",
    "        \"\"\"Create a new dataset metadata.\n",
    "        Args:\n",
    "            data(str, bytes, file-like object or :class:`rdflib.Graph`):\n",
    "                the content of metadata to send in the request body.\n",
    "            format (str, optional): the format of the metadata.\n",
    "                This argument overwrites the request header ``content-type``.\n",
    "                Available options are 'turtle', 'n3', 'nt', 'xml' and 'json-ld'.\n",
    "                Defaults to 'turtle'.\n",
    "            **kwargs: Optional arguments that :func:`requests.request` takes.\n",
    "        \"\"\"\n",
    "        self._request('create', 'dataset', data=data, format=format, **kwargs)\n",
    "\n",
    "    def create_distribution(self, data, format='turtle', **kwargs):\n",
    "        \"\"\"Create a new distribution metadata.\n",
    "        Args:\n",
    "            data(str, bytes, file-like object or :class:`rdflib.Graph`):\n",
    "                the content of metadata to send in the request body.\n",
    "            format (str, optional): the format of the metadata.\n",
    "                This argument overwrites the request header ``content-type``.\n",
    "                Available options are 'turtle', 'n3', 'nt', 'xml' and 'json-ld'.\n",
    "                Defaults to 'turtle'.\n",
    "            **kwargs: Optional arguments that :func:`requests.request` takes.\n",
    "        \"\"\"\n",
    "        self._request('create', 'distribution', data=data, format=format, **kwargs)\n",
    "\n",
    "    # Read metadata\n",
    "    def read_fdp(self, format='turtle', **kwargs):\n",
    "        \"\"\"Read the fdp metadata.\n",
    "        Args:\n",
    "            format (str, optional): the format of the metadata.\n",
    "                This argument overwrites the request header ``accept``.\n",
    "                Available options are 'turtle', 'n3', 'nt', 'xml' and 'json-ld'.\n",
    "                Defaults to 'turtle'.\n",
    "            **kwargs: Optional arguments that :func:`requests.request` takes.\n",
    "        Returns:\n",
    "            :class:`rdflib.Graph`: RDF graph of the requested metadata.\n",
    "        \"\"\"\n",
    "        return self._request('read', self.fdp_id, id='', format=format, **kwargs)\n",
    "\n",
    "    def read_catalog(self, id, format='turtle', **kwargs):\n",
    "        \"\"\"Read a catalog metadata.\n",
    "        Args:\n",
    "            id(str): the identifier of the metadata.\n",
    "            format (str, optional): the format of the metadata.\n",
    "                This argument overwrites the request header ``accept``.\n",
    "                Available options are 'turtle', 'n3', 'nt', 'xml' and 'json-ld'.\n",
    "                Defaults to 'turtle'.\n",
    "            **kwargs: Optional arguments that :func:`requests.request` takes.\n",
    "        Returns:\n",
    "            :class:`rdflib.Graph`: RDF graph of the requested metadata.\n",
    "        \"\"\"\n",
    "        return self._request('read', 'catalog', id=id, format=format, **kwargs)\n",
    "\n",
    "    def read_dataset(self, id, format='turtle', **kwargs):\n",
    "        \"\"\"Read a dataset metadata.\n",
    "        Args:\n",
    "            id(str): the identifier of the metadata.\n",
    "            format (str, optional): the format of the metadata.\n",
    "                This argument overwrites the request header ``accept``.\n",
    "                Available options are 'turtle', 'n3', 'nt', 'xml' and 'json-ld'.\n",
    "                Defaults to 'turtle'.\n",
    "            **kwargs: Optional arguments that :func:`requests.request` takes.\n",
    "        Returns:\n",
    "            :class:`rdflib.Graph`: RDF graph of the requested metadata.\n",
    "        \"\"\"\n",
    "        return self._request('read', 'dataset', id=id, format=format, **kwargs)\n",
    "\n",
    "    def read_distribution(self, id, format='turtle', **kwargs):\n",
    "        \"\"\"Read a distribution metadata.\n",
    "        Args:\n",
    "            id(str): the identifier of the metadata.\n",
    "            format (str, optional): the format of the metadata.\n",
    "                This argument overwrites the request header ``accept``.\n",
    "                Available options are 'turtle', 'n3', 'nt', 'xml' and 'json-ld'.\n",
    "                Defaults to 'turtle'.\n",
    "            **kwargs: Optional arguments that :func:`requests.request` takes.\n",
    "        Returns:\n",
    "            :class:`rdflib.Graph`: RDF graph of the requested metadata.\n",
    "        \"\"\"\n",
    "        return self._request('read', 'distribution', id=id, format=format, **kwargs)\n",
    "\n",
    "    # Update metadata\n",
    "    def update_fdp(self, data, format='turtle', **kwargs):\n",
    "        \"\"\"Update the fdp metadata.\n",
    "        Args:\n",
    "            data(str, bytes, file-like object or :class:`rdflib.Graph`):\n",
    "                the content of metadata to send in the request body.\n",
    "            format (str, optional): the format of the metadata.\n",
    "                This argument overwrites the request header ``content-type``.\n",
    "                Available options are 'turtle', 'n3', 'nt', 'xml' and 'json-ld'.\n",
    "                Defaults to 'turtle'.\n",
    "            **kwargs: Optional arguments that :func:`requests.request` takes.\n",
    "        \"\"\"\n",
    "        self._request('update', self.fdp_id, id='', data=data, format=format, **kwargs)\n",
    "\n",
    "    def update_catalog(self, id, data, format='turtle', **kwargs):\n",
    "        \"\"\"Update a catalog metadata.\n",
    "        Args:\n",
    "            id(str): the identifier of the metadata.\n",
    "            data(str, bytes, file-like object or :class:`rdflib.Graph`):\n",
    "                the content of metadata to send in the request body.\n",
    "            format (str, optional): the format of the metadata.\n",
    "                This argument overwrites the request header ``content-type``.\n",
    "                Available options are 'turtle', 'n3', 'nt', 'xml' and 'json-ld'.\n",
    "                Defaults to 'turtle'.\n",
    "            **kwargs: Optional arguments that :func:`requests.request` takes.\n",
    "        \"\"\"\n",
    "        self._request('update', 'catalog', id=id, data=data, format=format, **kwargs)\n",
    "\n",
    "    def update_dataset(self, id, data, format='turtle', **kwargs):\n",
    "        \"\"\"Update a dataset metadata.\n",
    "        Args:\n",
    "            id(str): the identifier of the metadata.\n",
    "            data(str, bytes, file-like object or :class:`rdflib.Graph`):\n",
    "                the content of metadata to send in the request body.\n",
    "            format (str, optional): the format of the metadata.\n",
    "                This argument overwrites the request header ``content-type``.\n",
    "                Available options are 'turtle', 'n3', 'nt', 'xml' and 'json-ld'.\n",
    "                Defaults to 'turtle'.\n",
    "            **kwargs: Optional arguments that :func:`requests.request` takes.\n",
    "        \"\"\"\n",
    "        self._request('update', 'dataset', id=id, data=data, format=format, **kwargs)\n",
    "\n",
    "    def update_distribution(self, id, data, format='turtle', **kwargs):\n",
    "        \"\"\"Update a distribution metadata.\n",
    "        Args:\n",
    "            id(str): the identifier of the metadata.\n",
    "            data(str, bytes, file-like object or :class:`rdflib.Graph`):\n",
    "                the content of metadata to send in the request body.\n",
    "            format (str, optional): the format of the metadata.\n",
    "                This argument overwrites the request header ``content-type``.\n",
    "                Available options are 'turtle', 'n3', 'nt', 'xml' and 'json-ld'.\n",
    "                Defaults to 'turtle'.\n",
    "            **kwargs: Optional arguments that :func:`requests.request` takes.\n",
    "        \"\"\"\n",
    "        self._request('update', 'distribution', id=id, data=data, format=format, **kwargs)\n",
    "\n",
    "    # Delete metadata\n",
    "    def delete_catalog(self, id, **kwargs):\n",
    "        \"\"\"Delete a catalog metadata.\n",
    "        Args:\n",
    "            id(str): the identifier of the metadata.\n",
    "            **kwargs: Optional arguments that :func:`requests.request` takes.\n",
    "        \"\"\"\n",
    "        self._request('delete', 'catalog', id=id, **kwargs)\n",
    "\n",
    "    def delete_dataset(self, id, **kwargs):\n",
    "        \"\"\"Delete a dataset metadata.\n",
    "        Args:\n",
    "            id(str): the identifier of the metadata.\n",
    "            **kwargs: Optional arguments that :func:`requests.request` takes.\n",
    "        \"\"\"\n",
    "        self._request('delete', 'dataset', id=id, **kwargs)\n",
    "\n",
    "    def delete_distribution(self, id, **kwargs):\n",
    "        \"\"\"Delete a distribution metadata.\n",
    "        Args:\n",
    "            id(str): the identifier of the metadata.\n",
    "            **kwargs: Optional arguments that :func:`requests.request` takes.\n",
    "        \"\"\"\n",
    "        self._request('delete', 'distribution', id=id, **kwargs)\n",
    "\n",
    "    # Private methods\n",
    "    def _detect_fdp_url(self):\n",
    "        \"\"\"Detect the internal path of fdp\n",
    "        Raises:\n",
    "            RuntimeError: failed to find the fdp url\n",
    "        Returns:\n",
    "            str: the internal path of fdp, i.e. 'fdp' or ''.\n",
    "        \"\"\"\n",
    "        fmt = 'text/turtle'\n",
    "\n",
    "        r = requests.get(self.host + '/fdp', params={'Accept':fmt})\n",
    "        if r.status_code == 200 and r.headers['content-type'] == fmt:\n",
    "            return 'fdp'\n",
    "\n",
    "        r = requests.get(self.host, params={'Accept':fmt})\n",
    "        if r.status_code == 200 and r.headers['content-type'] == fmt:\n",
    "            return ''\n",
    "\n",
    "        raise RuntimeError('Failed to detect the fdp url. Check if the server '\n",
    "                        + 'uses \"<host>\" or \"<host>/fdp\" as the fdp url.')\n",
    "\n",
    "    def _request(self, operation, type, id=None, data=None, format='turtle', **kwargs):\n",
    "        \"\"\"Private request method.\n",
    "        Args:\n",
    "            operation(str): the request operation.\n",
    "                Available options: 'read', 'write', 'update' and 'delete'.\n",
    "                See :class:`fdpclient.operations`.\n",
    "            type(str): the type of metadata.\n",
    "                Available types: 'fdp', 'catalog', 'dataset' and 'distribution'.\n",
    "            id(str): the identifier of the metadata.\n",
    "                Defaults to `None`.\n",
    "            data(str, bytes, file-like object or :class:`rdflib.Graph`):\n",
    "                the content of metadata to send in the request body.\n",
    "                Defaults to `None`.\n",
    "            format (str, optional): the format of the metadata.\n",
    "                This argument overwrites the request header ``content-type`` or\n",
    "                ``accept``.\n",
    "                Available options are 'turtle', 'n3', 'nt', 'xml' and 'json-ld'.\n",
    "                See :const:`fdpclient.config.DATA_FORMATS`.\n",
    "                Defaults to 'turtle'.\n",
    "            **kwargs: Optional arguments that :func:`requests.request` takes.\n",
    "        Returns:\n",
    "            `None` or :class:`rdflib.Graph`: RDF graph of the requested metadata.\n",
    "        \"\"\"\n",
    "\n",
    "        request_methods = ('create', 'read', 'update', 'delete')\n",
    "\n",
    "        if operation not in request_methods:\n",
    "            raise ValueError(f'Invalid request method: {operation}')\n",
    "\n",
    "        if operation in ('read', 'delete', 'update') and id is None:\n",
    "            raise ValueError(f'Metadata \"id\" must be given for request method {operation}')\n",
    "\n",
    "        if operation in ('create', 'update') and data is None:\n",
    "            raise ValueError(f'Metadata \"data\" must be given for request method {operation}')\n",
    "\n",
    "        if id is not None:\n",
    "            url = '/'.join([self.host, type, id])\n",
    "        else:\n",
    "            url = '/'.join([self.host, type])\n",
    "        url = url.rstrip('/')\n",
    "\n",
    "        logger.debug(f'Request: {operation} metadata on {url}')\n",
    "        request = getattr(operations, operation)\n",
    "        if operation == 'delete':\n",
    "            r = request(url=url, data=data, **kwargs)\n",
    "        else:\n",
    "            r = request(url=url, data=data, format=format, **kwargs)\n",
    "        return r\n"
   ]
  },
  {
   "cell_type": "code",
   "execution_count": 42,
   "id": "fadade61-7955-4fab-81a2-75100c7b30ae",
   "metadata": {},
   "outputs": [],
   "source": [
    "# create metadata\n",
    "with open('test-data/catalog01.ttl') as f:\n",
    "    data = f.read()\n",
    "foo.create_catalog(data)\n"
   ]
  },
  {
   "cell_type": "code",
   "execution_count": 40,
   "id": "5d8ab58b-43d4-4745-9208-e37075fbe04d",
   "metadata": {},
   "outputs": [
    {
     "name": "stdout",
     "output_type": "stream",
     "text": [
      "HTTP error: 404 NOT FOUND for http://openspecimen-fdp-fdp:8888/catalog/catalog01 \n",
      "Response message: {\n",
      "  \"message\": \"Not Found\"\n",
      "}\n",
      "\n"
     ]
    },
    {
     "ename": "RuntimeError",
     "evalue": "No active exception to reraise",
     "output_type": "error",
     "traceback": [
      "\u001b[0;31m---------------------------------------------------------------------------\u001b[0m",
      "\u001b[0;31mRuntimeError\u001b[0m                              Traceback (most recent call last)",
      "Input \u001b[0;32mIn [40]\u001b[0m, in \u001b[0;36m<cell line: 3>\u001b[0;34m()\u001b[0m\n\u001b[1;32m      1\u001b[0m \u001b[38;5;66;03m# let's assume the catalogID was assigned as 'catalog01'\u001b[39;00m\n\u001b[1;32m      2\u001b[0m \u001b[38;5;66;03m# read metadata, return a RDF graph\u001b[39;00m\n\u001b[0;32m----> 3\u001b[0m r \u001b[38;5;241m=\u001b[39m \u001b[43mfoo\u001b[49m\u001b[38;5;241;43m.\u001b[39;49m\u001b[43mread_catalog\u001b[49m\u001b[43m(\u001b[49m\u001b[38;5;124;43m'\u001b[39;49m\u001b[38;5;124;43mcatalog01\u001b[39;49m\u001b[38;5;124;43m'\u001b[39;49m\u001b[43m)\u001b[49m\n\u001b[1;32m      4\u001b[0m \u001b[38;5;28mprint\u001b[39m(r\u001b[38;5;241m.\u001b[39mserialize(\u001b[38;5;28mformat\u001b[39m\u001b[38;5;241m=\u001b[39m\u001b[38;5;124m\"\u001b[39m\u001b[38;5;124mturtle\u001b[39m\u001b[38;5;124m\"\u001b[39m)\u001b[38;5;241m.\u001b[39mdecode(\u001b[38;5;124m\"\u001b[39m\u001b[38;5;124mutf-8\u001b[39m\u001b[38;5;124m\"\u001b[39m))\n",
      "Input \u001b[0;32mIn [22]\u001b[0m, in \u001b[0;36mDummyTest.read_catalog\u001b[0;34m(self, id, format, **kwargs)\u001b[0m\n\u001b[1;32m    102\u001b[0m \u001b[38;5;28;01mdef\u001b[39;00m \u001b[38;5;21mread_catalog\u001b[39m(\u001b[38;5;28mself\u001b[39m, \u001b[38;5;28mid\u001b[39m, \u001b[38;5;28mformat\u001b[39m\u001b[38;5;241m=\u001b[39m\u001b[38;5;124m'\u001b[39m\u001b[38;5;124mturtle\u001b[39m\u001b[38;5;124m'\u001b[39m, \u001b[38;5;241m*\u001b[39m\u001b[38;5;241m*\u001b[39mkwargs):\n\u001b[1;32m    103\u001b[0m     \u001b[38;5;124;03m\"\"\"Read a catalog metadata.\u001b[39;00m\n\u001b[1;32m    104\u001b[0m \u001b[38;5;124;03m    Args:\u001b[39;00m\n\u001b[1;32m    105\u001b[0m \u001b[38;5;124;03m        id(str): the identifier of the metadata.\u001b[39;00m\n\u001b[0;32m   (...)\u001b[0m\n\u001b[1;32m    112\u001b[0m \u001b[38;5;124;03m        :class:`rdflib.Graph`: RDF graph of the requested metadata.\u001b[39;00m\n\u001b[1;32m    113\u001b[0m \u001b[38;5;124;03m    \"\"\"\u001b[39;00m\n\u001b[0;32m--> 114\u001b[0m     \u001b[38;5;28;01mreturn\u001b[39;00m \u001b[38;5;28;43mself\u001b[39;49m\u001b[38;5;241;43m.\u001b[39;49m\u001b[43m_request\u001b[49m\u001b[43m(\u001b[49m\u001b[38;5;124;43m'\u001b[39;49m\u001b[38;5;124;43mread\u001b[39;49m\u001b[38;5;124;43m'\u001b[39;49m\u001b[43m,\u001b[49m\u001b[43m \u001b[49m\u001b[38;5;124;43m'\u001b[39;49m\u001b[38;5;124;43mcatalog\u001b[39;49m\u001b[38;5;124;43m'\u001b[39;49m\u001b[43m,\u001b[49m\u001b[43m \u001b[49m\u001b[38;5;28;43mid\u001b[39;49m\u001b[38;5;241;43m=\u001b[39;49m\u001b[38;5;28;43mid\u001b[39;49m\u001b[43m,\u001b[49m\u001b[43m \u001b[49m\u001b[38;5;28;43mformat\u001b[39;49m\u001b[38;5;241;43m=\u001b[39;49m\u001b[38;5;28;43mformat\u001b[39;49m\u001b[43m,\u001b[49m\u001b[43m \u001b[49m\u001b[38;5;241;43m*\u001b[39;49m\u001b[38;5;241;43m*\u001b[39;49m\u001b[43mkwargs\u001b[49m\u001b[43m)\u001b[49m\n",
      "Input \u001b[0;32mIn [22]\u001b[0m, in \u001b[0;36mDummyTest._request\u001b[0;34m(self, operation, type, id, data, format, **kwargs)\u001b[0m\n\u001b[1;32m    290\u001b[0m     r \u001b[38;5;241m=\u001b[39m request(url\u001b[38;5;241m=\u001b[39murl, data\u001b[38;5;241m=\u001b[39mdata, \u001b[38;5;241m*\u001b[39m\u001b[38;5;241m*\u001b[39mkwargs)\n\u001b[1;32m    291\u001b[0m \u001b[38;5;28;01melse\u001b[39;00m:\n\u001b[0;32m--> 292\u001b[0m     r \u001b[38;5;241m=\u001b[39m \u001b[43mrequest\u001b[49m\u001b[43m(\u001b[49m\u001b[43murl\u001b[49m\u001b[38;5;241;43m=\u001b[39;49m\u001b[43murl\u001b[49m\u001b[43m,\u001b[49m\u001b[43m \u001b[49m\u001b[43mdata\u001b[49m\u001b[38;5;241;43m=\u001b[39;49m\u001b[43mdata\u001b[49m\u001b[43m,\u001b[49m\u001b[43m \u001b[49m\u001b[38;5;28;43mformat\u001b[39;49m\u001b[38;5;241;43m=\u001b[39;49m\u001b[38;5;28;43mformat\u001b[39;49m\u001b[43m,\u001b[49m\u001b[43m \u001b[49m\u001b[38;5;241;43m*\u001b[39;49m\u001b[38;5;241;43m*\u001b[39;49m\u001b[43mkwargs\u001b[49m\u001b[43m)\u001b[49m\n\u001b[1;32m    293\u001b[0m \u001b[38;5;28;01mreturn\u001b[39;00m r\n",
      "File \u001b[0;32m/opt/conda/lib/python3.9/site-packages/fdpclient/operations.py:68\u001b[0m, in \u001b[0;36mread\u001b[0;34m(url, format, **kwargs)\u001b[0m\n\u001b[1;32m     65\u001b[0m     \u001b[38;5;28;01mif\u001b[39;00m r\u001b[38;5;241m.\u001b[39mstatus_code \u001b[38;5;241m!=\u001b[39m \u001b[38;5;241m200\u001b[39m:\n\u001b[1;32m     66\u001b[0m         \u001b[38;5;28mprint\u001b[39m(\u001b[38;5;124mf\u001b[39m\u001b[38;5;124m'\u001b[39m\u001b[38;5;124mHTTP error: \u001b[39m\u001b[38;5;132;01m{\u001b[39;00mr\u001b[38;5;241m.\u001b[39mstatus_code\u001b[38;5;132;01m}\u001b[39;00m\u001b[38;5;124m \u001b[39m\u001b[38;5;132;01m{\u001b[39;00mr\u001b[38;5;241m.\u001b[39mreason\u001b[38;5;132;01m}\u001b[39;00m\u001b[38;5;124m for \u001b[39m\u001b[38;5;132;01m{\u001b[39;00murl\u001b[38;5;132;01m}\u001b[39;00m\u001b[38;5;124m'\u001b[39m,\n\u001b[1;32m     67\u001b[0m               \u001b[38;5;124mf\u001b[39m\u001b[38;5;124m'\u001b[39m\u001b[38;5;130;01m\\n\u001b[39;00m\u001b[38;5;124mResponse message: \u001b[39m\u001b[38;5;132;01m{\u001b[39;00mr\u001b[38;5;241m.\u001b[39mtext\u001b[38;5;132;01m}\u001b[39;00m\u001b[38;5;124m'\u001b[39m)\n\u001b[0;32m---> 68\u001b[0m         \u001b[38;5;28;01mraise\u001b[39;00m\n\u001b[1;32m     70\u001b[0m g \u001b[38;5;241m=\u001b[39m rdflib\u001b[38;5;241m.\u001b[39mGraph()\n\u001b[1;32m     71\u001b[0m g\u001b[38;5;241m.\u001b[39mparse(data\u001b[38;5;241m=\u001b[39mr\u001b[38;5;241m.\u001b[39mtext, \u001b[38;5;28mformat\u001b[39m\u001b[38;5;241m=\u001b[39m\u001b[38;5;28mformat\u001b[39m)\n",
      "\u001b[0;31mRuntimeError\u001b[0m: No active exception to reraise"
     ]
    }
   ],
   "source": [
    "# let's assume the catalogID was assigned as 'catalog01'\n",
    "# read metadata, return a RDF graph\n",
    "r = foo.read_catalog('catalog01')\n",
    "print(r.serialize(format=\"turtle\").decode(\"utf-8\"))\n"
   ]
  },
  {
   "cell_type": "code",
   "execution_count": 39,
   "id": "2851b9a0-2583-4006-9173-54398004b58c",
   "metadata": {},
   "outputs": [
    {
     "ename": "FileNotFoundError",
     "evalue": "[Errno 2] No such file or directory: 'catalog01_update.ttl'",
     "output_type": "error",
     "traceback": [
      "\u001b[0;31m---------------------------------------------------------------------------\u001b[0m",
      "\u001b[0;31mFileNotFoundError\u001b[0m                         Traceback (most recent call last)",
      "Input \u001b[0;32mIn [39]\u001b[0m, in \u001b[0;36m<cell line: 2>\u001b[0;34m()\u001b[0m\n\u001b[1;32m      1\u001b[0m \u001b[38;5;66;03m# update metadata\u001b[39;00m\n\u001b[0;32m----> 2\u001b[0m \u001b[38;5;28;01mwith\u001b[39;00m \u001b[38;5;28;43mopen\u001b[39;49m\u001b[43m(\u001b[49m\u001b[38;5;124;43m'\u001b[39;49m\u001b[38;5;124;43mcatalog01_update.ttl\u001b[39;49m\u001b[38;5;124;43m'\u001b[39;49m\u001b[43m)\u001b[49m \u001b[38;5;28;01mas\u001b[39;00m f:\n\u001b[1;32m      3\u001b[0m     data_update \u001b[38;5;241m=\u001b[39m f\u001b[38;5;241m.\u001b[39mread()\n\u001b[1;32m      4\u001b[0m foo\u001b[38;5;241m.\u001b[39mupdate_catalog(\u001b[38;5;124m'\u001b[39m\u001b[38;5;124mcatalog01\u001b[39m\u001b[38;5;124m'\u001b[39m, data_update)\n",
      "\u001b[0;31mFileNotFoundError\u001b[0m: [Errno 2] No such file or directory: 'catalog01_update.ttl'"
     ]
    }
   ],
   "source": [
    "# update metadata\n",
    "with open('catalog01_update.ttl') as f:\n",
    "    data_update = f.read()\n",
    "foo.update_catalog('catalog01', data_update)\n",
    "\n"
   ]
  },
  {
   "cell_type": "code",
   "execution_count": 37,
   "id": "174218fc-4cc0-4988-a47a-a498141ae3e8",
   "metadata": {},
   "outputs": [
    {
     "name": "stdout",
     "output_type": "stream",
     "text": [
      "HTTP error: 405 METHOD NOT ALLOWED for http://openspecimen-fdp-fdp:8888/catalog/http://fdp.fairdatapoint.nl/catalog/catalog01 \n",
      "Response message: {\n",
      "  \"detail\": \"The method is not allowed for the requested URL.\",\n",
      "  \"status\": 405,\n",
      "  \"title\": \"Method Not Allowed\",\n",
      "  \"type\": \"about:blank\"\n",
      "}\n",
      "\n"
     ]
    },
    {
     "ename": "RuntimeError",
     "evalue": "No active exception to reraise",
     "output_type": "error",
     "traceback": [
      "\u001b[0;31m---------------------------------------------------------------------------\u001b[0m",
      "\u001b[0;31mRuntimeError\u001b[0m                              Traceback (most recent call last)",
      "Input \u001b[0;32mIn [37]\u001b[0m, in \u001b[0;36m<cell line: 2>\u001b[0;34m()\u001b[0m\n\u001b[1;32m      1\u001b[0m \u001b[38;5;66;03m# delete metadata\u001b[39;00m\n\u001b[0;32m----> 2\u001b[0m \u001b[43mfoo\u001b[49m\u001b[38;5;241;43m.\u001b[39;49m\u001b[43mdelete_catalog\u001b[49m\u001b[43m(\u001b[49m\u001b[38;5;124;43m'\u001b[39;49m\u001b[38;5;124;43mhttp://fdp.fairdatapoint.nl/catalog/catalog01\u001b[39;49m\u001b[38;5;124;43m'\u001b[39;49m\u001b[43m)\u001b[49m\n",
      "Input \u001b[0;32mIn [22]\u001b[0m, in \u001b[0;36mDummyTest.delete_catalog\u001b[0;34m(self, id, **kwargs)\u001b[0m\n\u001b[1;32m    201\u001b[0m \u001b[38;5;28;01mdef\u001b[39;00m \u001b[38;5;21mdelete_catalog\u001b[39m(\u001b[38;5;28mself\u001b[39m, \u001b[38;5;28mid\u001b[39m, \u001b[38;5;241m*\u001b[39m\u001b[38;5;241m*\u001b[39mkwargs):\n\u001b[1;32m    202\u001b[0m     \u001b[38;5;124;03m\"\"\"Delete a catalog metadata.\u001b[39;00m\n\u001b[1;32m    203\u001b[0m \u001b[38;5;124;03m    Args:\u001b[39;00m\n\u001b[1;32m    204\u001b[0m \u001b[38;5;124;03m        id(str): the identifier of the metadata.\u001b[39;00m\n\u001b[1;32m    205\u001b[0m \u001b[38;5;124;03m        **kwargs: Optional arguments that :func:`requests.request` takes.\u001b[39;00m\n\u001b[1;32m    206\u001b[0m \u001b[38;5;124;03m    \"\"\"\u001b[39;00m\n\u001b[0;32m--> 207\u001b[0m     \u001b[38;5;28;43mself\u001b[39;49m\u001b[38;5;241;43m.\u001b[39;49m\u001b[43m_request\u001b[49m\u001b[43m(\u001b[49m\u001b[38;5;124;43m'\u001b[39;49m\u001b[38;5;124;43mdelete\u001b[39;49m\u001b[38;5;124;43m'\u001b[39;49m\u001b[43m,\u001b[49m\u001b[43m \u001b[49m\u001b[38;5;124;43m'\u001b[39;49m\u001b[38;5;124;43mcatalog\u001b[39;49m\u001b[38;5;124;43m'\u001b[39;49m\u001b[43m,\u001b[49m\u001b[43m \u001b[49m\u001b[38;5;28;43mid\u001b[39;49m\u001b[38;5;241;43m=\u001b[39;49m\u001b[38;5;28;43mid\u001b[39;49m\u001b[43m,\u001b[49m\u001b[43m \u001b[49m\u001b[38;5;241;43m*\u001b[39;49m\u001b[38;5;241;43m*\u001b[39;49m\u001b[43mkwargs\u001b[49m\u001b[43m)\u001b[49m\n",
      "Input \u001b[0;32mIn [22]\u001b[0m, in \u001b[0;36mDummyTest._request\u001b[0;34m(self, operation, type, id, data, format, **kwargs)\u001b[0m\n\u001b[1;32m    288\u001b[0m request \u001b[38;5;241m=\u001b[39m \u001b[38;5;28mgetattr\u001b[39m(operations, operation)\n\u001b[1;32m    289\u001b[0m \u001b[38;5;28;01mif\u001b[39;00m operation \u001b[38;5;241m==\u001b[39m \u001b[38;5;124m'\u001b[39m\u001b[38;5;124mdelete\u001b[39m\u001b[38;5;124m'\u001b[39m:\n\u001b[0;32m--> 290\u001b[0m     r \u001b[38;5;241m=\u001b[39m \u001b[43mrequest\u001b[49m\u001b[43m(\u001b[49m\u001b[43murl\u001b[49m\u001b[38;5;241;43m=\u001b[39;49m\u001b[43murl\u001b[49m\u001b[43m,\u001b[49m\u001b[43m \u001b[49m\u001b[43mdata\u001b[49m\u001b[38;5;241;43m=\u001b[39;49m\u001b[43mdata\u001b[49m\u001b[43m,\u001b[49m\u001b[43m \u001b[49m\u001b[38;5;241;43m*\u001b[39;49m\u001b[38;5;241;43m*\u001b[39;49m\u001b[43mkwargs\u001b[49m\u001b[43m)\u001b[49m\n\u001b[1;32m    291\u001b[0m \u001b[38;5;28;01melse\u001b[39;00m:\n\u001b[1;32m    292\u001b[0m     r \u001b[38;5;241m=\u001b[39m request(url\u001b[38;5;241m=\u001b[39murl, data\u001b[38;5;241m=\u001b[39mdata, \u001b[38;5;28mformat\u001b[39m\u001b[38;5;241m=\u001b[39m\u001b[38;5;28mformat\u001b[39m, \u001b[38;5;241m*\u001b[39m\u001b[38;5;241m*\u001b[39mkwargs)\n",
      "File \u001b[0;32m/opt/conda/lib/python3.9/site-packages/fdpclient/operations.py:123\u001b[0m, in \u001b[0;36mdelete\u001b[0;34m(url, **kwargs)\u001b[0m\n\u001b[1;32m    120\u001b[0m \u001b[38;5;28;01mif\u001b[39;00m r\u001b[38;5;241m.\u001b[39mstatus_code \u001b[38;5;241m>\u001b[39m\u001b[38;5;241m=\u001b[39m \u001b[38;5;241m300\u001b[39m:\n\u001b[1;32m    121\u001b[0m     \u001b[38;5;28mprint\u001b[39m(\u001b[38;5;124mf\u001b[39m\u001b[38;5;124m'\u001b[39m\u001b[38;5;124mHTTP error: \u001b[39m\u001b[38;5;132;01m{\u001b[39;00mr\u001b[38;5;241m.\u001b[39mstatus_code\u001b[38;5;132;01m}\u001b[39;00m\u001b[38;5;124m \u001b[39m\u001b[38;5;132;01m{\u001b[39;00mr\u001b[38;5;241m.\u001b[39mreason\u001b[38;5;132;01m}\u001b[39;00m\u001b[38;5;124m for \u001b[39m\u001b[38;5;132;01m{\u001b[39;00murl\u001b[38;5;132;01m}\u001b[39;00m\u001b[38;5;124m'\u001b[39m,\n\u001b[1;32m    122\u001b[0m           \u001b[38;5;124mf\u001b[39m\u001b[38;5;124m'\u001b[39m\u001b[38;5;130;01m\\n\u001b[39;00m\u001b[38;5;124mResponse message: \u001b[39m\u001b[38;5;132;01m{\u001b[39;00mr\u001b[38;5;241m.\u001b[39mtext\u001b[38;5;132;01m}\u001b[39;00m\u001b[38;5;124m'\u001b[39m)\n\u001b[0;32m--> 123\u001b[0m     \u001b[38;5;28;01mraise\u001b[39;00m\n",
      "\u001b[0;31mRuntimeError\u001b[0m: No active exception to reraise"
     ]
    }
   ],
   "source": [
    "# delete metadata\n",
    "foo.delete_catalog('http://fdp.fairdatapoint.nl/catalog/catalog01')"
   ]
  },
  {
   "cell_type": "code",
   "execution_count": 15,
   "id": "eb532309-2c9d-402e-a7bf-db4f9c930299",
   "metadata": {},
   "outputs": [
    {
     "data": {
      "text/plain": [
       "24.0"
      ]
     },
     "execution_count": 15,
     "metadata": {},
     "output_type": "execute_result"
    }
   ],
   "source": [
    "\n"
   ]
  }
 ],
 "metadata": {
  "kernelspec": {
   "display_name": "Python 3 (ipykernel)",
   "language": "python",
   "name": "python3"
  },
  "language_info": {
   "codemirror_mode": {
    "name": "ipython",
    "version": 3
   },
   "file_extension": ".py",
   "mimetype": "text/x-python",
   "name": "python",
   "nbconvert_exporter": "python",
   "pygments_lexer": "ipython3",
   "version": "3.9.10"
  }
 },
 "nbformat": 4,
 "nbformat_minor": 5
}
