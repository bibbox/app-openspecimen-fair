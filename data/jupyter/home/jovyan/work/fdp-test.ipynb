{
 "cells": [
  {
   "cell_type": "markdown",
   "id": "aae8a8d4-4ef6-4543-89a0-18c93a30f6e7",
   "metadata": {},
   "source": [
    "# FDP\n",
    "\n",
    "## Docker\n",
    "[Github](https://github.com/fair-data/fairdatapoint)\n",
    "\n",
    "[nlesc/fairdatapoint](https://hub.docker.com/r/nlesc/fairdatapoint)\n",
    "\n",
    "## FDP-client\n",
    "[fairdatapoint-client](https://github.com/fair-data/fairdatapoint-client)"
   ]
  },
  {
   "cell_type": "code",
   "execution_count": 1,
   "id": "2ce39ee8-9ab0-492a-ba94-6ef2b9379854",
   "metadata": {},
   "outputs": [
    {
     "name": "stdout",
     "output_type": "stream",
     "text": [
      "Requirement already satisfied: fairdatapoint-client in /opt/conda/lib/python3.9/site-packages (0.1.0)\n",
      "Requirement already satisfied: requests in /opt/conda/lib/python3.9/site-packages (from fairdatapoint-client) (2.27.1)\n",
      "Requirement already satisfied: rdflib in /opt/conda/lib/python3.9/site-packages (from fairdatapoint-client) (6.1.1)\n",
      "Requirement already satisfied: rdflib-jsonld in /opt/conda/lib/python3.9/site-packages (from fairdatapoint-client) (0.6.2)\n",
      "Requirement already satisfied: setuptools in /opt/conda/lib/python3.9/site-packages (from rdflib->fairdatapoint-client) (61.3.0)\n",
      "Requirement already satisfied: pyparsing in /opt/conda/lib/python3.9/site-packages (from rdflib->fairdatapoint-client) (3.0.7)\n",
      "Requirement already satisfied: isodate in /opt/conda/lib/python3.9/site-packages (from rdflib->fairdatapoint-client) (0.6.1)\n",
      "Requirement already satisfied: certifi>=2017.4.17 in /opt/conda/lib/python3.9/site-packages (from requests->fairdatapoint-client) (2021.10.8)\n",
      "Requirement already satisfied: urllib3<1.27,>=1.21.1 in /opt/conda/lib/python3.9/site-packages (from requests->fairdatapoint-client) (1.26.9)\n",
      "Requirement already satisfied: idna<4,>=2.5 in /opt/conda/lib/python3.9/site-packages (from requests->fairdatapoint-client) (3.3)\n",
      "Requirement already satisfied: charset-normalizer~=2.0.0 in /opt/conda/lib/python3.9/site-packages (from requests->fairdatapoint-client) (2.0.12)\n",
      "Requirement already satisfied: six in /opt/conda/lib/python3.9/site-packages (from isodate->rdflib->fairdatapoint-client) (1.16.0)\n",
      "Note: you may need to restart the kernel to use updated packages.\n"
     ]
    }
   ],
   "source": [
    "pip install fairdatapoint-client"
   ]
  },
  {
   "cell_type": "code",
   "execution_count": 2,
   "id": "a33d19ff-e895-49c8-b31f-993487309197",
   "metadata": {},
   "outputs": [],
   "source": [
    "#https://github.com/fair-data/fairdatapoint-client\n",
    "from fdpclient.client import Client\n",
    "from fdpclient import operations"
   ]
  },
  {
   "cell_type": "code",
   "execution_count": 5,
   "id": "26f09b04-0b36-4da1-bb04-e065573c755d",
   "metadata": {},
   "outputs": [
    {
     "ename": "RuntimeError",
     "evalue": "Failed to detect the fdp url. Check if the server uses \"<host>\" or \"<host>/fdp\" as the fdp url.",
     "output_type": "error",
     "traceback": [
      "\u001b[0;31m---------------------------------------------------------------------------\u001b[0m",
      "\u001b[0;31mRuntimeError\u001b[0m                              Traceback (most recent call last)",
      "Input \u001b[0;32mIn [5]\u001b[0m, in \u001b[0;36m<cell line: 2>\u001b[0;34m()\u001b[0m\n\u001b[1;32m      1\u001b[0m \u001b[38;5;66;03m# create a client with base URL\u001b[39;00m\n\u001b[0;32m----> 2\u001b[0m client \u001b[38;5;241m=\u001b[39m \u001b[43mClient\u001b[49m\u001b[43m(\u001b[49m\u001b[38;5;124;43m'\u001b[39;49m\u001b[38;5;124;43mhttp://openspecimen-fdp-fdp:8888/fdp\u001b[39;49m\u001b[38;5;124;43m'\u001b[39;49m\u001b[43m)\u001b[49m\n",
      "File \u001b[0;32m/opt/conda/lib/python3.9/site-packages/fdpclient/client.py:38\u001b[0m, in \u001b[0;36mClient.__init__\u001b[0;34m(self, host)\u001b[0m\n\u001b[1;32m      9\u001b[0m \u001b[38;5;124;03m\"\"\"The Client object to connect to a FAIR Data Point server.\u001b[39;00m\n\u001b[1;32m     10\u001b[0m \n\u001b[1;32m     11\u001b[0m \u001b[38;5;124;03mFAIR Data Point server contains 4 types of metadata as described in the\u001b[39;00m\n\u001b[0;32m   (...)\u001b[0m\n\u001b[1;32m     35\u001b[0m \u001b[38;5;124;03m    >>> print(fdp_metadata, catalog_metadata)\u001b[39;00m\n\u001b[1;32m     36\u001b[0m \u001b[38;5;124;03m\"\"\"\u001b[39;00m\n\u001b[1;32m     37\u001b[0m \u001b[38;5;28mself\u001b[39m\u001b[38;5;241m.\u001b[39mhost \u001b[38;5;241m=\u001b[39m host\u001b[38;5;241m.\u001b[39mrstrip(\u001b[38;5;124m'\u001b[39m\u001b[38;5;124m/\u001b[39m\u001b[38;5;124m'\u001b[39m)\n\u001b[0;32m---> 38\u001b[0m \u001b[38;5;28mself\u001b[39m\u001b[38;5;241m.\u001b[39mfdp_id \u001b[38;5;241m=\u001b[39m \u001b[38;5;28;43mself\u001b[39;49m\u001b[38;5;241;43m.\u001b[39;49m\u001b[43m_detect_fdp_url\u001b[49m\u001b[43m(\u001b[49m\u001b[43m)\u001b[49m\n",
      "File \u001b[0;32m/opt/conda/lib/python3.9/site-packages/fdpclient/client.py:269\u001b[0m, in \u001b[0;36mClient._detect_fdp_url\u001b[0;34m(self)\u001b[0m\n\u001b[1;32m    266\u001b[0m \u001b[38;5;28;01mif\u001b[39;00m r\u001b[38;5;241m.\u001b[39mstatus_code \u001b[38;5;241m==\u001b[39m \u001b[38;5;241m200\u001b[39m \u001b[38;5;129;01mand\u001b[39;00m r\u001b[38;5;241m.\u001b[39mheaders[\u001b[38;5;124m'\u001b[39m\u001b[38;5;124mcontent-type\u001b[39m\u001b[38;5;124m'\u001b[39m] \u001b[38;5;241m==\u001b[39m fmt:\n\u001b[1;32m    267\u001b[0m     \u001b[38;5;28;01mreturn\u001b[39;00m \u001b[38;5;124m'\u001b[39m\u001b[38;5;124m'\u001b[39m\n\u001b[0;32m--> 269\u001b[0m \u001b[38;5;28;01mraise\u001b[39;00m \u001b[38;5;167;01mRuntimeError\u001b[39;00m(\u001b[38;5;124m'\u001b[39m\u001b[38;5;124mFailed to detect the fdp url. Check if the server \u001b[39m\u001b[38;5;124m'\u001b[39m\n\u001b[1;32m    270\u001b[0m                 \u001b[38;5;241m+\u001b[39m \u001b[38;5;124m'\u001b[39m\u001b[38;5;124muses \u001b[39m\u001b[38;5;124m\"\u001b[39m\u001b[38;5;124m<host>\u001b[39m\u001b[38;5;124m\"\u001b[39m\u001b[38;5;124m or \u001b[39m\u001b[38;5;124m\"\u001b[39m\u001b[38;5;124m<host>/fdp\u001b[39m\u001b[38;5;124m\"\u001b[39m\u001b[38;5;124m as the fdp url.\u001b[39m\u001b[38;5;124m'\u001b[39m)\n",
      "\u001b[0;31mRuntimeError\u001b[0m: Failed to detect the fdp url. Check if the server uses \"<host>\" or \"<host>/fdp\" as the fdp url."
     ]
    }
   ],
   "source": [
    "# create a client with base URL\n",
    "client = Client('http://openspecimen-fdp-fdp:8888/fdp') #'http://openspecimen-fdp-fdp:8888/'"
   ]
  },
  {
   "cell_type": "code",
   "execution_count": 4,
   "id": "eb243a65-9200-4036-97ef-a2099743d66f",
   "metadata": {},
   "outputs": [
    {
     "name": "stdout",
     "output_type": "stream",
     "text": [
      "Status: 404, content-type: application/json\n",
      "Status: 200, content-type: text/html; charset=utf-8\n"
     ]
    }
   ],
   "source": [
    "import requests\n",
    "fmt = 'text/turtle'\n",
    "r=requests.get('http://openspecimen-fdp-fdp:8888' + '/fdp', params={'Accept':fmt})\n",
    "print('Status: '+str(r.status_code)+', content-type: '+r.headers['content-type'])\n",
    "r=requests.get('http://openspecimen-fdp-fdp:8888' + '/', params={'Accept':fmt})\n",
    "print('Status: '+str(r.status_code)+', content-type: '+r.headers['content-type'])"
   ]
  },
  {
   "cell_type": "code",
   "execution_count": null,
   "id": "5d3d8436-e389-4d31-8ba2-da927609e6e8",
   "metadata": {},
   "outputs": [],
   "source": []
  }
 ],
 "metadata": {
  "kernelspec": {
   "display_name": "Python 3 (ipykernel)",
   "language": "python",
   "name": "python3"
  },
  "language_info": {
   "codemirror_mode": {
    "name": "ipython",
    "version": 3
   },
   "file_extension": ".py",
   "mimetype": "text/x-python",
   "name": "python",
   "nbconvert_exporter": "python",
   "pygments_lexer": "ipython3",
   "version": "3.9.10"
  }
 },
 "nbformat": 4,
 "nbformat_minor": 5
}
